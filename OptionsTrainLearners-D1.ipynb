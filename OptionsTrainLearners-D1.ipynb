{
 "cells": [
  {
   "cell_type": "markdown",
   "metadata": {},
   "source": [
    "# Teach Your Laptop to Trade Stock Options.\n",
    "# Notebook 3: Train Machine Learners.\n",
    "What could possibly go wrong?\n",
    "\n",
    "12/11/2020"
   ]
  },
  {
   "cell_type": "markdown",
   "metadata": {},
   "source": [
    "## Purpose of this Notebook - Train Learners to trade stock options.\n",
    "This notebook is the third in a series of notebooks that demonstrate how to train a Machine learner to trade stock options, successfully, we hope. This notebook shows how to train several Learners and compare them to choose the best one for your specific project. This notebook uses a data set of stock option trades for ExxonMobil (XOM) from 2017-2018 to illustrate many aspects of Machine Learning with the python SKLearn library. All the trades are short covered calls. \n",
    "\n",
    "What You Need: Basic knowledge of Python, pandas, numpy, dataframes, and statistics. \n",
    "\n",
    "What You Don't Need: Knowledge of stock options, scipy, sklearn, or Machine Learning. This project is self-contained and you will learn as you go.\n",
    "\n",
    "You will Learn:\n",
    "\n",
    "- How to display features for visual evaluation of feature quality.\n",
    "- How to set up several Learners for comparison on your feature set.\n",
    "- How to capture performance data and execution time data for comparison.\n",
    "- How to display comparison data for visual inspection.\n"
   ]
  },
  {
   "cell_type": "markdown",
   "metadata": {},
   "source": [
    "## 1. Explore the Feature Set."
   ]
  },
  {
   "cell_type": "markdown",
   "metadata": {},
   "source": [
    "Load the csv file training_features.csv into a dataframe. \n",
    "\n",
    "Although you do not need any knowledge of stock options, or even finance, to use this notebook, a little information may make it more interesting.\n",
    "\n",
    "Column Name Abbreviations\n",
    "- STO - 'Sell to Open.' A trader may sell or buy a put or call contract to open a trade.\n",
    "- ARR - 'Annual Return Rate.' The equivalent rate of return on the trade, if it expires, on an annual basis.\n",
    "- strike_delta% - The difference between the stock price and the option strike price (the delta) as a % of stock price.\n",
    "- days long - The number of days from the trade date to the expiry date.\n",
    "- Profit$ - the $ profit/loss for the specific trade.\n",
    "- Profit% - the profit/loss for the trade measured as a percent of the stock price at the time the trade was opened.\n",
    "\n",
    "Evaluation Questions: \n",
    "- Do think these features are sufficient to predict the profitability of this type of option trade? Why, why not?\n",
    "- What other features would you add to this feature set?\n",
    "- How will you evaluate feature quality and contribbution to the results?\n",
    "\n",
    "Code Questions:\n",
    "- How many features are in this feature set?\n",
    "- What is the data type of each feature?\n",
    "- What are the statistics of each feature? Get the min, max, mean, and standard deviation of each. Use built-in functions in Pandas.\n"
   ]
  },
  {
   "cell_type": "code",
   "execution_count": 1,
   "metadata": {
    "scrolled": true
   },
   "outputs": [
    {
     "name": "stdout",
     "output_type": "stream",
     "text": [
      "   Unnamed: 0  stock_price_at_STO_offer  STO_strike  STO_days_long  \\\n",
      "0           0                     81.82        80.0           11.0   \n",
      "1           1                     81.81        80.0           11.0   \n",
      "2           2                     81.82        80.5           11.0   \n",
      "3           3                     81.81        80.5           11.0   \n",
      "4           4                     82.10        80.5           11.0   \n",
      "\n",
      "   STO_offer_ARR  stock_price_at_open  STO_ask_fee%  STO_offer_strike_delta%  \\\n",
      "0       0.786760                82.10      0.023711                -0.022244   \n",
      "1       0.784828                82.10      0.023652                -0.022124   \n",
      "2       0.618458                82.10      0.018638                -0.016133   \n",
      "3       0.608394                82.10      0.018335                -0.016013   \n",
      "4       0.701224                82.14      0.021133                -0.019488   \n",
      "\n",
      "   Closed_xtn_Profit$  Closed_xtn_Profit%  ...        MFI     MACD  \\\n",
      "0              -610.0           -0.316062  ...  51.016173 -0.20322   \n",
      "1              -615.0           -0.319481  ...  51.016173 -0.20322   \n",
      "2              -525.0           -0.346535  ...  51.016173 -0.20322   \n",
      "3              -550.0           -0.369128  ...  51.016173 -0.20322   \n",
      "4              -315.0           -0.182609  ...  51.016173 -0.20322   \n",
      "\n",
      "   45 day vel  30 day vel  15 day vel  10 day vel  5 day vel  2 day vel  \\\n",
      "0   -0.009706   -0.026812   -0.123964    0.055939      0.061       0.39   \n",
      "1   -0.009706   -0.026812   -0.123964    0.055939      0.061       0.39   \n",
      "2   -0.009706   -0.026812   -0.123964    0.055939      0.061       0.39   \n",
      "3   -0.009706   -0.026812   -0.123964    0.055939      0.061       0.39   \n",
      "4   -0.009706   -0.026812   -0.123964    0.055939      0.061       0.39   \n",
      "\n",
      "   ER - Expiry  label  \n",
      "0         80.0      0  \n",
      "1         80.0      0  \n",
      "2         80.0      0  \n",
      "3         80.0      0  \n",
      "4         80.0      0  \n",
      "\n",
      "[5 rows x 32 columns]\n"
     ]
    }
   ],
   "source": [
    "import pandas as pd\n",
    "import numpy as np\n",
    "training_features = pd.DataFrame()\n",
    "training_features = pd.read_csv('training_features_wlabel.csv', index_col = False)\n",
    "print(training_features.head(5))\n",
    "#print(training_features.columns.to_list())"
   ]
  },
  {
   "cell_type": "markdown",
   "metadata": {},
   "source": [
    "## 2. Visualize the Feature Set"
   ]
  },
  {
   "cell_type": "markdown",
   "metadata": {},
   "source": [
    "With Matplotlib, compare the features when grouped by proitable trades ('winners' with label = 1) vs. unprofitable trades ('losers' with label = 0). "
   ]
  },
  {
   "cell_type": "code",
   "execution_count": 2,
   "metadata": {},
   "outputs": [
    {
     "name": "stdout",
     "output_type": "stream",
     "text": [
      "(5577, 29)\n",
      "setting up bins.\n"
     ]
    },
    {
     "data": {
      "image/png": "[encoded data removed]",
      "text/plain": [
       "<Figure size 864x1080 with 30 Axes>"
      ]
     },
     "metadata": {
      "needs_background": "light"
     },
     "output_type": "display_data"
    }
   ],
   "source": [
    "import matplotlib\n",
    "import matplotlib.pyplot as plt\n",
    "\n",
    "opt_sample = pd.read_csv('opt_sample.csv', index_col = 0)\n",
    "print(opt_sample.shape)\n",
    "#print(opt_sample.head(5))\n",
    "fig,axes =plt.subplots(10,3, figsize=(12, 15)) # 3 columns each containing 9 figures, total 27 features\n",
    "winners = opt_sample[opt_sample['label']==1]    # define winners\n",
    "losers  = opt_sample[opt_sample['label']==0]    # define losers\n",
    "\n",
    "winners = winners.to_numpy()\n",
    "losers  = losers.to_numpy()\n",
    "opt_np = opt_sample.to_numpy()\n",
    "\n",
    "ax=axes.ravel()# flat axes with numpy ravel\n",
    "\n",
    "print('setting up bins.') \n",
    "for i in range(len(opt_sample.columns.values)):\n",
    "  _,bins=np.histogram(opt_np[:,i],bins=40)\n",
    "  \n",
    "  ax[i].hist(losers[:,i],bins=bins,color='r',alpha=.5)# red color for malignant class\n",
    "  ax[i].hist(winners[:,i],bins=bins,color='g',alpha=0.3)# alpha is           for transparency in the overlapped region\n",
    "  ax[i].set_title(opt_sample.columns.values[i],fontsize=9)\n",
    "  ax[i].axes.get_xaxis().set_visible(False) # the x-axis co-ordinates are not so useful, as we just want to look how well separated the histograms are\n",
    "  ax[i].set_yticks(())\n",
    "ax[0].legend(['losers','winners'],loc='best',fontsize=8)\n",
    "plt.tight_layout()# let's make good plots\n",
    "plt.show()\n"
   ]
  },
  {
   "cell_type": "markdown",
   "metadata": {},
   "source": [
    "Each chart above shows a collection of green bars and red bars for a single feature. \n",
    "\n",
    "Evaluation Questions:\n",
    " - What is the meaning of the green bars and red bars?\n",
    " - By looking at the charts, can you identify which features contain more information to train the Learners? How? Why?\n",
    " - Which chart shows perfect separation between the red and green bars. Why?\n",
    " - Can we use this feature to train the Learners? Why, why not?\n",
    " - In your opinion, can we train the Learners effectively with this set of features? Why, why not? \n",
    " \n",
    " Code Questions:\n",
    " - Develop a single metric that defines the relationship between red and greed data points for each feature.\n",
    " - Compare your metric to the charts. Does your metric provide additional insight? Why, why not.\n",
    " - Calculate the correlation matrix of all the features. Hint, this is a single line of code with a dataframe.\n",
    " - Rank the features with the highest correlation, then plot the correlation as a series of charts. Any benefit?\n",
    " - Rank the correlation of each feature with the label, then plot. Any additional insights?\n",
    " \n",
    "The correlation analysis is one method to perform feature reduction or elimination, which is a key component in feature development. The next notebook in this series shows several techniques to do feature elimination."
   ]
  },
  {
   "cell_type": "markdown",
   "metadata": {},
   "source": [
    "## 3.0 Metrics for Evaluating Learners\n"
   ]
  },
  {
   "cell_type": "markdown",
   "metadata": {},
   "source": [
    "Let's take a brief detour here to review evaluation metrics for classifiers. With a label of only two values (T, F), this project is a binary classifier. The Confusion Matrix shown below captures all the variables needed to measure performance. \n",
    "\n",
    "| Actual Result | Predicted Result = True | Predicted Result = False |\n",
    "| --- | --- | --- |\n",
    "| True | True Positive (TP) | False Negative (FN) |\n",
    "| False | False Positive (FP)| True Negative (TN) |\n",
    "\n",
    "\n",
    "1. Accuracy is a simple count of total correct predictions / total predictions. Thus accuracy is not sensitive to the ratio of true/false labels. As the imbalance moves to larger ratios then accuracy gives correspondlingly less weight to errors in predictions of the less frequent label. In extreme cases such as some medical analysis (e.g., cancer diagnosis) or financial transactions (e.g., credit card fraud), which have ratios of 1000:1 or higher, accuracy is almost uselesss because the goal is to find the extremely rare occurrences.\n",
    "\n",
    "2. Precision and Recall both ignore true negative predictions (TN). As a result, they are asymmetric. If the data set is run with the true / false labels switched, precision and recall will produce reciprical values. \n",
    "\n",
    "3. F1 score is the weighted average of precision and recall scores. As a result, it has the same flaw regarding true negative predictions.  \n",
    "\n",
    "4. Matthews Correlation Coefficient (MCC) is a balanced metrix that uses all four values in the confusion matrix. MCC has a range or +-1.0 with 1 being a perfect score, indicating no FP and no FN. A score of 0 indicates  no correlation and a score of -1 indicates perfect reversse correlation.\n",
    "\n",
    "For this project, these four metrics are probably sufficient to evaluate the Learners. Consider especially MCC in your personal evaluations. \n",
    "\n",
    "For other projects you may consider other metrics. See this article for a thorough discussion of metrics for binary classifiers: https://towardsdatascience.com/the-ultimate-guide-to-binary-classification-metrics-c25c3627dd0a\n"
   ]
  },
  {
   "cell_type": "markdown",
   "metadata": {},
   "source": [
    "## 3.1 Train and Test Learners. "
   ]
  },
  {
   "cell_type": "markdown",
   "metadata": {},
   "source": [
    "Review the function to train, test, and measure different Learners. Review the online documentation for the SKLearn library and read about each of these Learners.\n",
    "\n",
    "Evaluation Questions:\n",
    " - What is a regressor? a classifier? Which should we use for this project as set up? Why?\n",
    " - How would we change the setup to use the other type? Which would be better? Why?\n",
    " - Describe each Learner in your own words. Which ones do you think will work best for this project? Why?\n",
    " - In this project the Learner chooses option trades to execute. What is the likely financial result of a false positive? Why?\n",
    " - What is the likely financial result of a false negative? Why?\n",
    " - How do the different impacts of false positive and false negative errors impact your evaluation of the Learners?\n",
    " \n",
    "Code Questions:\n",
    " - When you execute the code block below, what output do you expect to see? Why? This is a trick question.\n",
    " - How will you add another Learner to the evaluation set?"
   ]
  },
  {
   "cell_type": "code",
   "execution_count": 3,
   "metadata": {},
   "outputs": [
    {
     "name": "stdout",
     "output_type": "stream",
     "text": [
      "\n",
      "No output yet. Call this function with a set of train and test features.\n",
      "First run the code block below to prepare a set of train and test data.\n"
     ]
    }
   ],
   "source": [
    "# Import ML Libraries from SKLearn.\n",
    "\n",
    "import lightgbm\n",
    "from lightgbm import LGBMClassifier as LGBMC\n",
    "\n",
    "from sklearn import svm\n",
    "from sklearn import metrics\n",
    "\n",
    "from sklearn.decomposition     import PCA\n",
    "from sklearn.preprocessing     import StandardScaler\n",
    "from sklearn.neighbors         import KNeighborsClassifier\n",
    "from sklearn.neural_network    import MLPClassifier\n",
    "from sklearn.ensemble          import RandomForestClassifier, AdaBoostClassifier, GradientBoostingClassifier\n",
    "from sklearn.datasets          import make_classification\n",
    "from sklearn.neighbors         import KNeighborsClassifier\n",
    "from sklearn.neural_network    import MLPClassifier\n",
    "from sklearn.naive_bayes       import GaussianNB \n",
    "from sklearn.feature_selection import SelectKBest\n",
    "import xgboost\n",
    "from xgboost                   import XGBClassifier\n",
    "import catboost\n",
    "from catboost                  import CatBoostClassifier\n",
    "from sklearn.feature_selection import chi2\n",
    "\n",
    "import time\n",
    "import random\n",
    "\n",
    "def RunLearners(Xr_train, Xr_test, yr_train, yr_test, all_run_stats, stats_columns, run_ID):\n",
    "    print() \n",
    "    print('Please be patient. Some of these Learners are pretty slow learners.')\n",
    "    print('If you get impatient, put in a print statement to show progress, or just use one already in place.')\n",
    "    print()\n",
    "    \n",
    "    learners = {'SVC sigmoid'      : svm.SVC(kernel = 'sigmoid'),\n",
    "                #'SVC linear'       : svm.SVC(kernel = 'linear'),\n",
    "                #'SVC poly'         : svm.SVC(kernel = 'poly'),\n",
    "                'GaussianNB'       : GaussianNB(),\n",
    "                'AdaBoost'         : AdaBoostClassifier(),\n",
    "                #'RandomForest_d6'  : RandomForestClassifier(max_depth=3, random_state=97),\n",
    "                #'KNNeighbors_2'    : KNeighborsClassifier(n_neighbors=3),\n",
    "                'KNNeighbors_8'    : KNeighborsClassifier(n_neighbors=8),\n",
    "                'MLPerceptron'     : MLPClassifier(alpha=1, max_iter=1000),\n",
    "                'GradientBoost'    : GradientBoostingClassifier(),\n",
    "                'RandomForest_d12' : RandomForestClassifier(max_depth=12, random_state=97),\n",
    "                'XGBoost'          : XGBClassifier(),\n",
    "                'CatBoost'         : CatBoostClassifier(verbose = False, iterations = 300),\n",
    "                'LightGBoost'      : LGBMC()\n",
    "               }\n",
    "    \n",
    "    learner_types = learners.keys()\n",
    "    for learner in learner_types: \n",
    "        print(learner ,'is learning now.')   \n",
    "        clf = learners[learner]\n",
    "        start_time = time.time()  \n",
    "        clf.fit(Xr_train, yr_train)\n",
    "        \n",
    "        end_time = time.time()\n",
    "        train_time = end_time - start_time\n",
    "        start_time = time.time()  \n",
    "        yr_pred = clf.predict(X_test)\n",
    "        end_time = time.time()\n",
    "        predict_time = end_time - start_time\n",
    "        \n",
    "        #Performance Metrics\n",
    "        accuracy       = metrics.accuracy_score(yr_test, yr_pred)\n",
    "        precision      = metrics.average_precision_score(yr_test, yr_pred)\n",
    "        recall         = metrics.recall_score(yr_test, yr_pred, labels=None, pos_label=1, \n",
    "                                         average='binary', sample_weight=None, zero_division='warn')\n",
    "        F1_score       = metrics.f1_score(yr_test, yr_pred, labels=None, pos_label=1, average='binary', \n",
    "                                     sample_weight=None, zero_division='warn')\n",
    "        tn, fp, fn, tp = metrics.confusion_matrix(yr_test, yr_pred, labels=None, sample_weight=None, normalize=None).ravel()\n",
    "        mcc            = metrics.matthews_corrcoef(yr_test, yr_pred, sample_weight=None)\n",
    "        \n",
    "        learner_metrics_dict = {'Learner'  : [learner],\n",
    "                                'Accuracy' : [accuracy],\n",
    "                                'Precision': [precision], \n",
    "                                'Recall'   : [recall],\n",
    "                                'MCC'      : [mcc],\n",
    "                                'True Neg' : [tn],\n",
    "                                'False Pos': [fp], \n",
    "                                'False Neg': [fn], \n",
    "                                'True Pos' : [tp],\n",
    "                                'Train Time': [train_time],\n",
    "                                'Predict Time': [predict_time], \n",
    "                                'Run_ID'      : [run_ID]\n",
    "                               }\n",
    "                \n",
    "        this_run_stats = pd.DataFrame(data = learner_metrics_dict)         \n",
    "        all_run_stats = all_run_stats.append(this_run_stats)\n",
    "    return all_run_stats\n",
    "\n",
    "print()\n",
    "print('No output yet. Call this function with a set of train and test features.')\n",
    "print('First run the code block below to prepare a set of train and test data.')\n"
   ]
  },
  {
   "cell_type": "markdown",
   "metadata": {},
   "source": [
    "## 4. Investigate the train and test data sets.\n",
    "Run the code block below, then consider these questions.\n",
    "\n",
    "Evaluation Questions:\n",
    "- Explain the differences between X_train, y_train, X_test, and y_test. \n",
    "- What are the dimensions of each?\n",
    "- What is the purpose of each?\n",
    "- What is the difference between a numpy array and a dataframe? Which works with a Learner?\n",
    "- How does the code modify X_train? Why?"
   ]
  },
  {
   "cell_type": "code",
   "execution_count": 4,
   "metadata": {},
   "outputs": [
    {
     "name": "stdout",
     "output_type": "stream",
     "text": [
      "y_train shape =  (5577,)\n",
      "X_train shape =  (5577, 28)\n",
      "\n",
      "Please be patient. Some of these Learners are pretty slow learners.\n",
      "If you get impatient, put in a print statement to show progress, or just use one already in place.\n",
      "\n",
      "SVC sigmoid is learning now.\n",
      "GaussianNB is learning now.\n",
      "AdaBoost is learning now.\n",
      "KNNeighbors_8 is learning now.\n",
      "MLPerceptron is learning now.\n",
      "GradientBoost is learning now.\n",
      "RandomForest_d12 is learning now.\n",
      "XGBoost is learning now.\n",
      "CatBoost is learning now.\n",
      "LightGBoost is learning now.\n",
      "            Learner  Accuracy  Precision    Recall       MCC True Neg  \\\n",
      "0       SVC sigmoid  0.462389   0.434995  0.295758 -0.106436      592   \n",
      "0        GaussianNB  0.694690   0.595571  0.658182  0.383996      713   \n",
      "0          AdaBoost  0.892699   0.834792  0.872727  0.783534      894   \n",
      "0     KNNeighbors_8  0.923119   0.881792  0.900606  0.845007      926   \n",
      "0      MLPerceptron  0.802544   0.746534  0.614545  0.623660      944   \n",
      "0     GradientBoost  0.961283   0.938148  0.952727  0.921946      952   \n",
      "0  RandomForest_d12  0.965708   0.946245  0.955152  0.930891      958   \n",
      "0           XGBoost  0.991704   0.985255  0.992727  0.983290      974   \n",
      "0          CatBoost  0.991150   0.986190  0.987879  0.982167      977   \n",
      "0       LightGBoost  0.995575   0.991999  0.996364  0.991087      978   \n",
      "\n",
      "  False Pos False Neg True Pos  Train Time  Predict Time   Run_ID sample count  \n",
      "0       391       581      244    2.826188      0.595642  Initial         1808  \n",
      "0       270       282      543    0.009014      0.003000  Initial         1808  \n",
      "0        89       105      720    0.718573      0.035980  Initial         1808  \n",
      "0        57        82      743    0.059968      0.140920  Initial         1808  \n",
      "0        39       318      507    4.304908      0.009979  Initial         1808  \n",
      "0        31        39      786    2.799410      0.007996  Initial         1808  \n",
      "0        25        37      788    1.272729      0.064947  Initial         1808  \n",
      "0         9         6      819    1.275268      0.011993  Initial         1808  \n",
      "0         6        10      815    3.637432      0.005998  Initial         1808  \n",
      "0         5         3      822    0.326811      0.012993  Initial         1808  \n"
     ]
    }
   ],
   "source": [
    "# Prepare the test and train data sets.\n",
    "\n",
    "X_train = pd.DataFrame()\n",
    "y_train = pd.DataFrame()\n",
    "X_test  = pd.DataFrame()\n",
    "y_test  = pd.DataFrame()\n",
    "\n",
    "stats_columns = ['Learner', 'Accuracy', 'Precision', 'Recall', 'MCC',\n",
    "                 'True Neg', 'False Pos', 'False Neg', 'True Pos', 'Train Time', 'Predict Time', 'Run_ID']\n",
    "\n",
    "learner_stats = pd.DataFrame(columns = stats_columns)\n",
    "\n",
    "X_train  = pd.read_csv('opt_sample.csv', index_col = 0)\n",
    "\n",
    "y_train = X_train[['label']].to_numpy()\n",
    "y_train = y_train.ravel()\n",
    "print('y_train shape = ', y_train.shape)\n",
    "X_train.drop(labels = 'label', axis = 'columns', inplace = True)\n",
    "print('X_train shape = ', X_train.shape)\n",
    "\n",
    "X_test = pd.read_csv('opt_test.csv', index_col = 0)\n",
    "y_test = X_test[['label']].to_numpy()\n",
    "X_test.drop(labels = 'label', axis = 'columns', inplace = True)\n",
    "\n",
    "y_train = np.ravel(y_train)\n",
    "y_test  = np.ravel(y_test)\n",
    "\n",
    "run_ID = 'Initial'\n",
    "\n",
    "learner_stats = RunLearners(X_train, X_test, y_train, y_test, learner_stats, stats_columns, run_ID)\n",
    "learner_stats['sample count'] = learner_stats['True Neg']  + learner_stats['True Pos'] + \\\n",
    "                                learner_stats['False Neg'] + learner_stats['False Pos']\n",
    "print(learner_stats)\n",
    "learner_stats.to_csv('learner_stats.csv')"
   ]
  },
  {
   "cell_type": "markdown",
   "metadata": {},
   "source": [
    "## 6. Plot and Compare Performance of the Learners.\n",
    "\n"
   ]
  },
  {
   "cell_type": "code",
   "execution_count": 5,
   "metadata": {
    "scrolled": true
   },
   "outputs": [
    {
     "data": {
      "text/plain": [
       "<AxesSubplot:>"
      ]
     },
     "execution_count": 5,
     "metadata": {},
     "output_type": "execute_result"
    },
    {
     "data": {
      "image/png": "[encoded data removed]",
      "text/plain": [
       "<Figure size 432x288 with 1 Axes>"
      ]
     },
     "metadata": {
      "needs_background": "light"
     },
     "output_type": "display_data"
    },
    {
     "data": {
      "image/png": "[encoded data removed]",
      "text/plain": [
       "<Figure size 432x288 with 1 Axes>"
      ]
     },
     "metadata": {
      "needs_background": "light"
     },
     "output_type": "display_data"
    },
    {
     "data": {
      "image/png": "[encoded data removed]",
      "text/plain": [
       "<Figure size 432x288 with 1 Axes>"
      ]
     },
     "metadata": {
      "needs_background": "light"
     },
     "output_type": "display_data"
    }
   ],
   "source": [
    "\n",
    "stats_for_plot = learner_stats.set_index('Learner', inplace=False, verify_integrity=False)\n",
    "stats_xp = stats_for_plot.transpose(copy = True)\n",
    "drop_rows = ['True Neg', 'False Pos', 'False Neg', 'True Pos', 'Train Time', 'Predict Time', 'Run_ID', 'sample count']\n",
    "metrics = stats_xp.drop(labels = drop_rows, axis = 0, inplace = False)\n",
    "metrics.plot.bar()\n",
    "\n",
    "drop_rows = ['Accuracy', 'Precision', 'Recall', 'MCC','Train Time', 'Predict Time', 'Run_ID', 'sample count']\n",
    "confusion = stats_xp.drop(labels = drop_rows, axis = 0, inplace = False)\n",
    "confusion.plot.bar()\n",
    "\n",
    "drop_rows = ['Accuracy', 'Precision', 'Recall', 'MCC', 'True Neg', 'False Pos', 'False Neg', \\\n",
    "             'True Pos', 'Run_ID', 'sample count']\n",
    "speed = stats_xp.drop(labels = drop_rows, axis = 0, inplace = False)\n",
    "speed.plot.bar()\n",
    "\n"
   ]
  },
  {
   "cell_type": "markdown",
   "metadata": {},
   "source": [
    "# Performance Evaluation - Top Chart\n",
    "\n",
    "Refer to the performance chart to answer these questions. You can also refer to the numerice values for each metric, shown in the print of learner_stats df.\n",
    "\n",
    "Evaluation Questions. You may need to modify function RunLearners and run it a few times with different learners to answer these evaluation questions. Note some other learners are already set up, just commented out.\n",
    "\n",
    " - What is the definition of each performance metric? \n",
    " - Which Learner performed best overall on the metrics?\n",
    " - Comparing RandomForest Learners, what do the suffixes mean?\n",
    " - Which RandomForest did better? Why?\n",
    " - What problems would you expect to see if we continued increasing the d parameter?\n",
    " - How can you find the best value for the d parameter?\n",
    " - Do the same comparison and analysis for the KNNeighbors numeric suffix. \n",
    "    You will need to modify the code to run at least two KNN Learners. \n",
    " - Which Learners consistently underperformed? In your opinion, why?\n",
    " - What does AdaBoost boost? XGBoost? CatBoost? What is boosting, anyway?\n",
    " - How could you improve performance of AdaBoost? XGBoost? CatBoost?\n",
    "    You may need to read the docs for each of these Learners to understand how to set the parameters to improve the results.\n",
    " - Based on the performance of the Learners, would you consider this learning challenge to be linear, nonlinear, or other? \n",
    "    Why, or not?\n",
    "    \n",
    "For this data set the Boosters outperformed all the other Learners, although RF_d12 and KNN_8 showed surprisingly well.\n",
    "- Why did the Boosters show such dominance over other Learners?\n",
    "- What makes this data set so suitable for Boosters? \n",
    "- Would Boosters still dominate with much larger data sets, say 500 K or 5 M samples?\n",
    "- For this data set, can you identify a clear winner and loser among the Boosters? \n",
    "- How would you change the data set to highlight the differences between the Boosters?\n",
    "\n",
    "Code Questions:\n",
    " - Change the parameters KNNeighbor and RandomForest. Explain the results.\n",
    " - Change the parameters for AdaBoost, CatBoost, and XGBoost. Explain the results. \n",
    " - Test another type of classifier. Predict the results for that classifier, then run it and compare to your prediction. \n",
    " - Change the parameters for SVC and MLP. Can you improve their performance with different parameters?\n",
    " - Change the y axis of the plot to expand the performance differences of the Learners. Is that better, or just deceptive?\n"
   ]
  },
  {
   "cell_type": "markdown",
   "metadata": {},
   "source": [
    "# Confusion Matrix - Middle Chart\n",
    "The middle chart does not display any matrix, only the four values for each Learner. \n",
    "\n",
    "Evaluation Questions.\n",
    " -What is the impact of a false positive for this application? Why?\n",
    " -What is the impact of a false negative for this application? Why?\n",
    " -Describe an application where the impact of a false negative is much greater than a false positive. How, and why?\n",
    " -Would you consider this the data set for this application to be balanced or not? Why? \n",
    "\n",
    "Code Questions\n",
    "- Display the confusion matrix valued in a matrix form. Does the display change or improve your understanding? How?\n",
    "- Try using normalized values for the confusion matrix. Does this help your understanding? How, or not?\n",
    "- How would you compare confusion matrix performance across two Learners? across many Learners?\n"
   ]
  },
  {
   "cell_type": "markdown",
   "metadata": {},
   "source": [
    "# Execution Times - Bottom Chart\n",
    "\n",
    "Evaluation Questions. You may need to modify function RunLearners and run it a few times with different learners selected to answer these Evaluation Questions. \n",
    "- Why does CatBoost take so long to train?\n",
    "- Why does KNNeighbors train so quickly?\n",
    "- Why does RandomForest train time increase as the d parameter increases?\n",
    "- Why is prediction time so much faster than train time for all Learners except KN Neighbors?\n",
    "- Why is KN Neighbors slower on prediction time?\n",
    "- Which is more important - train time or prediction time? Why? What circumstances?\n",
    "- What circumstances or requirements might change the relative importance of train time vs. prediciton time?\n",
    "- Given the execution times above, can you predict how train time will change as the training data set increases? Why?\n",
    "\n",
    "Code Questions:\n",
    "- In the chart, execution times are not effectively displayed. Change the chart to improve their display.\n",
    "- Which data sets are used for training?\n",
    "- Make those data sets 50% smaller, then 90% smaller, then rerun the Learners and plot the results.\n",
    "- How do the results change with the smaller data sets? Why?"
   ]
  },
  {
   "cell_type": "markdown",
   "metadata": {},
   "source": [
    "## Congratulations, You trained and compared several Learners."
   ]
  },
  {
   "cell_type": "markdown",
   "metadata": {},
   "source": [
    "Congratulations! You just trained several Learners to pick winning stock option trades. Now, you are almost ready to make a fortune in the stock market. But, first... consider these questions:\n",
    "\n",
    "- How can you improve the feature set? \n",
    "- Which Learner(s) would you choose? Why?\n",
    "- How can you gain more confidence in your trader?\n",
    "- What is your goal? Single profitable trades, or a portfolio of trades? What's the difference?\n",
    "\n",
    "Tune into the next exciting notebook to explore questions of maximizing portfolio results for options trading. \n",
    "\n",
    "Wishing you only profitable trades and good learning,\n",
    "\n",
    "Richard Barrett\n",
    "\n",
    "richard at rbshomes dot com.\n",
    "\n",
    "P.S. I want to hear about your adventures in Machine Learning, your questions and comments about stock option trading, and especially your specific applications for machine learning. Just shoot me an email.\n"
   ]
  }
 ],
 "metadata": {
  "kernelspec": {
   "display_name": "Python 3",
   "language": "python",
   "name": "python3"
  },
  "language_info": {
   "codemirror_mode": {
    "name": "ipython",
    "version": 3
   },
   "file_extension": ".py",
   "mimetype": "text/x-python",
   "name": "python",
   "nbconvert_exporter": "python",
   "pygments_lexer": "ipython3",
   "version": "3.8.4rc1"
  }
 },
 "nbformat": 4,
 "nbformat_minor": 4
}

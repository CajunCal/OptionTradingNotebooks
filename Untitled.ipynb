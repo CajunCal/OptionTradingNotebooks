{
 "cells": [
  {
   "cell_type": "markdown",
   "metadata": {},
   "source": [
    "Create the Features to Trade Options\n",
    "\n",
    "TOC\n",
    "Considerations for Features for Options Trading\n",
    "\n",
    "\n",
    "Since we will be trading only stock options on ExxonMobil (ticker XOM) we will limit our features to elements connected with XOM stock. To start, let's download stock data for XOM for the time period 04/01/2017 - 05/01/2018. Yahoo Finance provides this data in csv format, as do many other finance websites. \n",
    "\n",
    "The source file is named XOMOHLC 2016-2018. Read the data into a dataframe and inspect the first few rows with the .head() instruction.\n",
    "\n"
   ]
  }
 ],
 "metadata": {
  "kernelspec": {
   "display_name": "Python 3",
   "language": "python",
   "name": "python3"
  },
  "language_info": {
   "codemirror_mode": {
    "name": "ipython",
    "version": 3
   },
   "file_extension": ".py",
   "mimetype": "text/x-python",
   "name": "python",
   "nbconvert_exporter": "python",
   "pygments_lexer": "ipython3",
   "version": "3.8.0"
  }
 },
 "nbformat": 4,
 "nbformat_minor": 4
}

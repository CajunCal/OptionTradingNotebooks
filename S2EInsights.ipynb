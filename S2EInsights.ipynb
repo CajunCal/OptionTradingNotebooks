{
 "cells": [
  {
   "cell_type": "markdown",
   "metadata": {},
   "source": [
    "S2E Insights - Generate a demo data set to show how S2E provides insights into project success."
   ]
  },
  {
   "cell_type": "code",
   "execution_count": 6,
   "metadata": {},
   "outputs": [],
   "source": [
    "import pandas as pd\n",
    "import numpy as np\n",
    "\n",
    "# Synthesize a dta set to create various relationships.\n",
    "# Each dictionary entry shows the weighting factor for the feature element : metric combo.\n",
    "# Find the base entry for each metric, then multiply by the sum of the percentages for each factor.\n",
    "\n",
    "s2e_data = pd.DataFrame()\n",
    "\n",
    "mgrs = {'Brown': {'Goal-Revenue': .15, 'Goal-ExpReduction': .03, 'Budget': -.18, 'Scope Creep': -.08,\n",
    "                  'PUB': .12, 'Schedule': -.06, 'PUPS': .13, 'Dr. No': -.25, 'ARR': .28, 'ARC': .17},\n",
    "        'Gray':  {'Goal-Revenue': .08, 'Goal-ExpReduction': .06, 'Budget': -.13, 'Scope Creep': -.05,\n",
    "                  'PUB': .09, 'Schedule': -.08, 'PUPS': .16, 'Dr. No': -.20, 'ARR': .32, 'ARC': .21},\n",
    "        'White': {'Goal-Revenue': .04, 'Goal-ExpReduction': .08, 'Budget': -.16, 'Scope Creep': -.02,\n",
    "                  'PUB': .07, 'Schedule': -.09, 'PUPS': .18, 'Dr. No': -.12, 'ARR': .13, 'ARC': .18},\n",
    "        'Black': {'Goal-Revenue': -.07, 'Goal-ExpReduction': -.03,'Budget': .08, 'Scope Creep': .16,\n",
    "                  'PUB': -.06, 'Schedule': .12, 'PUPS': -.04, 'Dr. No': .18, 'ARR': -.07, 'ARC': -.04},\n",
    "        'Blue':  {'Goal-Revenue': -.03, 'Goal-ExpReduction': -.16, 'Budget': .12, 'Scope Creep': .21,\n",
    "                  'PUB': -.08, 'Schedule': .15, 'PUPS': -.05, 'Dr. No': .21, 'ARR': -.08, 'ARC': -.07},\n",
    "        'Red':   {'Goal-Revenue': .12, 'Goal-ExpReduction': -.18, 'Budget': .12, 'Scope Creep': .21,\n",
    "                  'PUB': -.13, 'Schedule': .18, 'PUPS': -.08, 'Dr. No': .21, 'ARR': -.09, 'ARC': -.06},\n",
    "        'Teal':  {'Goal-Revenue': .02, 'Goal-ExpReduction': .13,  'Budget': .07, 'Scope Creep': .16,\n",
    "                  'PUB': -.17, 'Schedule': -.13, 'PUPS': .09, 'Dr. No': .45, 'ARR': .12, 'ARC': .12}\n",
    "       }\n",
    "\n",
    "# Mgr Profiles:\n",
    "#  Brown - Very good overall. Drives project scope, budget, ARR, and ARC.\n",
    "#  Gray - Good overall. Drives budget, \n",
    "#  Complete for each manager.\n",
    "\n",
    "execs= {'Bush':  {'Goal-Revenue': .18, 'Goal-ExpReduction': .03, 'Budget': -.18, 'Scope Creep': -.08,\n",
    "                  'PUB': .12, 'Schedule': -.06, 'PUPS': .13, 'Dr. No': -.25, 'ARR': .28, 'ARC': .17},\n",
    "        'Rivers':{'Goal-Revenue': .08, 'Goal-ExpReduction': .06, 'Budget': -.13, 'Scope Creep': -.05,\n",
    "                  'PUB': .09, 'Schedule': -.08, 'PUPS': .16, 'Dr. No': -.20, 'ARR': .32, 'ARC': .21},\n",
    "        'Rock':  {'Goal-Revenue': .08, 'Goal-ExpReduction': .06, 'Budget': -.13, 'Scope Creep': -.05,\n",
    "                  'PUB': .09, 'Schedule': -.08, 'PUPS': .16, 'Dr. No': -.20, 'ARR': .32, 'ARC': .21},\n",
    "        'Hill':  {'Goal-Revenue': .08, 'Goal-ExpReduction': .06, 'Budget': -.13, 'Scope Creep': -.05,\n",
    "                  'PUB': .09, 'Schedule': -.08, 'PUPS': .16, 'Dr. No': -.20, 'ARR': .32, 'ARC': .21},\n",
    "        'Lake':  {'Goal-Revenue': .08, 'Goal-ExpReduction': .06, 'Budget': -.13, 'Scope Creep': -.05,\n",
    "                  'PUB': .09, 'Schedule': -.08, 'PUPS': .16, 'Dr. No': -.20, 'ARR': .32, 'ARC': .21}\n",
    "       }\n",
    "\n",
    "dr_no = {}  # Protects expenses, jacks up budgets and Scope Creep\n",
    "dept1 = {}  # Ops and Sales drives results. RD neutral, HR, Finance, IT bad as leads.\n",
    "dept23= {}  # Finance, IT, RD very positive. Ops, Sales neutral. HR bad.\n",
    "a        "
   ]
  },
  {
   "cell_type": "code",
   "execution_count": null,
   "metadata": {},
   "outputs": [],
   "source": []
  }
 ],
 "metadata": {
  "kernelspec": {
   "display_name": "Python 3",
   "language": "python",
   "name": "python3"
  },
  "language_info": {
   "codemirror_mode": {
    "name": "ipython",
    "version": 3
   },
   "file_extension": ".py",
   "mimetype": "text/x-python",
   "name": "python",
   "nbconvert_exporter": "python",
   "pygments_lexer": "ipython3",
   "version": "3.8.0"
  }
 },
 "nbformat": 4,
 "nbformat_minor": 4
}

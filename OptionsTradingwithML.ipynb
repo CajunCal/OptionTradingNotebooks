{
 "cells": [
  {
   "cell_type": "markdown",
   "metadata": {},
   "source": [
    "# Trade Stock Options with Machine Learning"
   ]
  },
  {
   "cell_type": "markdown",
   "metadata": {},
   "source": [
    "Use the fortune_teller json file to find how you can get rich trading options with Python Machine learning.\n",
    "Print the data for each key in the dictionary."
   ]
  },
  {
   "cell_type": "markdown",
   "metadata": {},
   "source": [
    "Nortes for Improvement\n",
    "1.Use my standard header block.\n",
    "2. Delete the jjoke code below.\n",
    "3. Feature the visualization of feature variance."
   ]
  },
  {
   "cell_type": "code",
   "execution_count": 1,
   "metadata": {
    "scrolled": true
   },
   "outputs": [
    {
     "name": "stdout",
     "output_type": "stream",
     "text": [
      "Can you get rich trading options with Machine Learning?\n",
      "Can you get rich working with Machine Learning in Python?\n",
      "Probably not.\n",
      "Maybe so.\n"
     ]
    }
   ],
   "source": [
    "import json\n",
    "with open('fortune_teller.json') as json_file:\n",
    "   fortune_teller_dict = json.load(json_file)\n",
    "print(fortune_teller_dict['Question1'])\n",
    "print(fortune_teller_dict['Question2'])\n",
    "print(fortune_teller_dict['Answer1'])\n",
    "print(fortune_teller_dict['Answer2'])"
   ]
  },
  {
   "cell_type": "markdown",
   "metadata": {},
   "source": [
    "Print the data for keys 'Answer1' and Answer2' to find the answers."
   ]
  },
  {
   "cell_type": "markdown",
   "metadata": {},
   "source": [
    "In this notebook you will use Machine Learners in SKLearn to find profitable stock option trades. This notebook uses a data set of 10,400 stock option trades for ExxonMobil (XOM) from 2017-2018 to illustrate many aspects of Machine Learning (ML) with the python SKLearn library. All the trades are short covered calls. \n",
    "\n",
    "What You Need: Basic knowledge of Python, pandas, numpy, dataframes, and statistics. \n",
    "\n",
    "What You Don't Need: Knowledge of stock options, scipy, or machine learning. This project is self-contained and you will learn as you go.\n",
    "\n",
    "You will Learn:\n",
    "\n",
    " - How to create a feature set for a machine learner (Learner).\n",
    " \n",
    " - How to create labels and adjust labels.\n",
    " \n",
    " - How to test different Learners that do classification.\n",
    " \n",
    " - How to optimize results.\n",
    " \n",
    "\n",
    "Project Outline\n",
    "\n",
    "Section 1: Explore the feature dataframe\n",
    "\n",
    "Section 2: Visualize the feature set\n",
    "\n",
    "Section 3: Improve the feature Set\n",
    "\n",
    "Section 4: Grid Search\n",
    "\n",
    "Section 5: Test different Classifiers\n",
    "\n",
    "Section 6: Change the Rules to Get Better Results. Tune the Label.\n",
    "\n",
    "Section 7: Final Exam - Find the Best Option Trades\n"
   ]
  },
  {
   "cell_type": "markdown",
   "metadata": {},
   "source": [
    "## Section 1 - Explore the Data "
   ]
  },
  {
   "cell_type": "markdown",
   "metadata": {},
   "source": [
    "Load the csv file training_features.csv into a dataframe."
   ]
  },
  {
   "cell_type": "code",
   "execution_count": 2,
   "metadata": {
    "scrolled": true
   },
   "outputs": [
    {
     "name": "stdout",
     "output_type": "stream",
     "text": [
      "   Unnamed: 0  stock_price_at_STO_offer  STO_strike  STO_days_long  \\\n",
      "0           0                     81.82        80.0             11   \n",
      "1           1                     81.81        80.0             11   \n",
      "2           2                     81.82        80.5             11   \n",
      "3           3                     81.81        80.5             11   \n",
      "4           4                     82.10        80.5             11   \n",
      "\n",
      "   STO_offer_ARR  stock_price_at_open  STO_ask_fee%  STO_offer_strike_delta%  \\\n",
      "0       0.786760                82.10      0.023711                -0.022244   \n",
      "1       0.784828                82.10      0.023652                -0.022124   \n",
      "2       0.618458                82.10      0.018638                -0.016133   \n",
      "3       0.608394                82.10      0.018335                -0.016013   \n",
      "4       0.701224                82.14      0.021133                -0.019488   \n",
      "\n",
      "   STO_open_strike_delta%  Closed_xtn_Profit$  ...  4 days old  5 days old  \\\n",
      "0               -0.025579              -610.0  ...   81.110001   80.690002   \n",
      "1               -0.025579              -615.0  ...   81.110001   80.690002   \n",
      "2               -0.019488              -525.0  ...   81.110001   80.690002   \n",
      "3               -0.019488              -550.0  ...   81.110001   80.690002   \n",
      "4               -0.019966              -315.0  ...   81.110001   80.690002   \n",
      "\n",
      "   45 day vel  30 day vel  15 day vel  10 day vel  5 day vel  2 day vel  \\\n",
      "0   -0.009706   -0.026812   -0.123964    0.055939      0.061       0.39   \n",
      "1   -0.009706   -0.026812   -0.123964    0.055939      0.061       0.39   \n",
      "2   -0.009706   -0.026812   -0.123964    0.055939      0.061       0.39   \n",
      "3   -0.009706   -0.026812   -0.123964    0.055939      0.061       0.39   \n",
      "4   -0.009706   -0.026812   -0.123964    0.055939      0.061       0.39   \n",
      "\n",
      "   ER - Expiry  label  \n",
      "0           80      0  \n",
      "1           80      0  \n",
      "2           80      0  \n",
      "3           80      0  \n",
      "4           80      0  \n",
      "\n",
      "[5 rows x 30 columns]\n",
      "['Unnamed: 0', 'stock_price_at_STO_offer', 'STO_strike', 'STO_days_long', 'STO_offer_ARR', 'stock_price_at_open', 'STO_ask_fee%', 'STO_offer_strike_delta%', 'STO_open_strike_delta%', 'Closed_xtn_Profit$', 'Closed_xtn_Profit%', '45 day SMA', '30 day SMA', '15 day SMA', '10 day SMA', 'Yearly Min', 'Yearly Max', '1 days old', '2 days old', '3 days old', '4 days old', '5 days old', '45 day vel', '30 day vel', '15 day vel', '10 day vel', '5 day vel', '2 day vel', 'ER - Expiry', 'label']\n"
     ]
    }
   ],
   "source": [
    "import pandas as pd\n",
    "import numpy as np\n",
    "training_features = pd.DataFrame()\n",
    "training_features = pd.read_csv('training_features_wlabel.csv', index_col = False)\n",
    "print(training_features.head(5))\n",
    "print(training_features.columns.to_list())"
   ]
  },
  {
   "cell_type": "markdown",
   "metadata": {},
   "source": [
    "Print a list of the column names.\n",
    "How many features are in this data set?\n",
    "Describe the types of features.\n",
    "\n",
    "Column Name Abbreviations\n",
    "STO - 'Sell to Open.' \n",
    "\n",
    "\n",
    "Evaluation: Do think these features are adequate to predict the profitability of this type of option trade?"
   ]
  },
  {
   "cell_type": "markdown",
   "metadata": {},
   "source": [
    "## Section 2 - Visualize the Feature Set"
   ]
  },
  {
   "cell_type": "markdown",
   "metadata": {},
   "source": [
    "With Matplotlib, compare the features when grouped by proitable trades ('winners' with label = 1) vs. unprofitable trades ('losers' with label = 0). "
   ]
  },
  {
   "cell_type": "code",
   "execution_count": 3,
   "metadata": {},
   "outputs": [
    {
     "name": "stdout",
     "output_type": "stream",
     "text": [
      "(8000, 28)\n",
      "winners = \n",
      "      Unnamed: 0  stock_price_at_STO_offer  STO_strike  STO_days_long  \\\n",
      "0           1824                     83.07        84.5             21   \n",
      "1           7115                     86.68        87.5             29   \n",
      "3            866                     82.23        84.0              9   \n",
      "4            846                     82.18        80.5              9   \n",
      "5           1615                     82.74        82.0             24   \n",
      "...          ...                       ...         ...            ...   \n",
      "7991        8220                     76.56        78.0             15   \n",
      "7993        9334                     74.46        76.5             24   \n",
      "7994        9279                     74.92        76.0             17   \n",
      "7995        8527                     76.52        78.0             35   \n",
      "7997        1973                     81.05        81.0             29   \n",
      "\n",
      "      STO_offer_ARR  stock_price_at_open  STO_ask_fee%  \\\n",
      "0          0.078462                83.30      0.004514   \n",
      "1          0.145203                86.90      0.011537   \n",
      "3          0.071514                82.28      0.001763   \n",
      "4          0.947514                82.23      0.023363   \n",
      "5          0.285823                83.03      0.018794   \n",
      "...             ...                  ...           ...   \n",
      "7991       0.200235                76.97      0.008229   \n",
      "7993       0.127655                74.53      0.008394   \n",
      "7994       0.206338                75.36      0.009610   \n",
      "7995       0.162180                76.64      0.015551   \n",
      "7997       0.212746                81.16      0.016903   \n",
      "\n",
      "      STO_offer_strike_delta%  STO_open_strike_delta%  45 day SMA  ...  \\\n",
      "0                    0.017214                0.014406   81.730223  ...   \n",
      "1                    0.009460                0.006904   83.250667  ...   \n",
      "3                    0.021525                0.020904   82.032667  ...   \n",
      "4                   -0.020443               -0.021039   82.032667  ...   \n",
      "5                   -0.008944               -0.012405   81.762223  ...   \n",
      "...                       ...                     ...         ...  ...   \n",
      "7991                 0.018809                0.013382   84.952000  ...   \n",
      "7993                 0.027397                0.026432   81.225778  ...   \n",
      "7994                 0.014415                0.008493   81.483111  ...   \n",
      "7995                 0.019341                0.017745   84.068889  ...   \n",
      "7997                -0.000617               -0.001971   81.790445  ...   \n",
      "\n",
      "      4 days old  5 days old  45 day vel  30 day vel  15 day vel  10 day vel  \\\n",
      "0      82.129997   80.620003   -0.000402   -0.030612    0.117964    0.332182   \n",
      "1      86.820000   86.699997    0.091042    0.149722    0.327071    0.373636   \n",
      "3      81.989998   82.550003    0.004852    0.031933   -0.005143   -0.018303   \n",
      "4      81.989998   82.550003    0.004852    0.031933   -0.005143   -0.018303   \n",
      "5      81.209999   80.120003   -0.016730   -0.051800   -0.049679    0.198788   \n",
      "...          ...         ...         ...         ...         ...         ...   \n",
      "7991   89.070000   87.300003    0.072362   -0.055515   -0.666786   -1.356667   \n",
      "7993   76.180000   76.269997   -0.383722   -0.366570   -0.135571   -0.230061   \n",
      "7994   76.269997   75.550003   -0.381798   -0.417626   -0.136321   -0.399515   \n",
      "7995   75.779999   76.070000   -0.104845   -0.436888   -1.122572   -0.665455   \n",
      "7997   82.260002   82.070000    0.009058   -0.004716    0.186214    0.058000   \n",
      "\n",
      "      5 day vel  2 day vel  ER - Expiry  label  \n",
      "0     -0.059999   0.190002           22      1  \n",
      "1     -0.146000  -0.689995           -6      1  \n",
      "3      0.172001   0.290001           57      1  \n",
      "4      0.172001   0.290001           57      1  \n",
      "5      0.466000   0.800003           22      1  \n",
      "...         ...        ...          ...    ...  \n",
      "7991  -3.044000  -1.409996           64      1  \n",
      "7993  -0.158001   0.680000           22      1  \n",
      "7994  -0.548000   0.439995           32      1  \n",
      "7995   0.090000  -0.250000           36      1  \n",
      "7997  -0.282000  -0.869996            8      1  \n",
      "\n",
      "[4168 rows x 28 columns]\n",
      "setting up bins.\n",
      "assigned histogram, now try labels.\n",
      "assigned histogram, now try labels.\n",
      "assigned histogram, now try labels.\n",
      "assigned histogram, now try labels.\n",
      "assigned histogram, now try labels.\n",
      "assigned histogram, now try labels.\n",
      "assigned histogram, now try labels.\n",
      "assigned histogram, now try labels.\n",
      "assigned histogram, now try labels.\n",
      "assigned histogram, now try labels.\n",
      "assigned histogram, now try labels.\n",
      "assigned histogram, now try labels.\n",
      "assigned histogram, now try labels.\n",
      "assigned histogram, now try labels.\n",
      "assigned histogram, now try labels.\n",
      "assigned histogram, now try labels.\n",
      "assigned histogram, now try labels.\n",
      "assigned histogram, now try labels.\n",
      "assigned histogram, now try labels.\n",
      "assigned histogram, now try labels.\n",
      "assigned histogram, now try labels.\n",
      "assigned histogram, now try labels.\n",
      "assigned histogram, now try labels.\n",
      "assigned histogram, now try labels.\n",
      "assigned histogram, now try labels.\n",
      "assigned histogram, now try labels.\n",
      "assigned histogram, now try labels.\n",
      "assigned histogram, now try labels.\n"
     ]
    },
    {
     "data": {
      "image/png": "[encoded data removed]",
      "text/plain": [
       "<Figure size 864x648 with 30 Axes>"
      ]
     },
     "metadata": {
      "needs_background": "light"
     },
     "output_type": "display_data"
    }
   ],
   "source": [
    "import matplotlib\n",
    "import matplotlib.pyplot as plt\n",
    "\n",
    "opt_sample = pd.read_csv('opt_sample.csv')\n",
    "print(opt_sample.shape)\n",
    "fig,axes =plt.subplots(10,3, figsize=(12, 9)) # 3 columns each containing 9 figures, total 27 features\n",
    "winners = opt_sample[opt_sample['label']==1]    # define winners\n",
    "losers  = opt_sample[opt_sample['label']==0]    # define losers\n",
    "print('winners = ')\n",
    "print(winners)\n",
    "\n",
    "winners = winners.to_numpy()\n",
    "losers  = losers.to_numpy()\n",
    "opt_np = opt_sample.to_numpy()\n",
    "\n",
    "ax=axes.ravel()# flat axes with numpy ravel\n",
    "\n",
    "print('setting up bins.') \n",
    "for i in range(len(opt_sample.columns.values)):\n",
    "  _,bins=np.histogram(opt_np[:,i],bins=40)\n",
    "  \n",
    "  ax[i].hist(losers[:,i],bins=bins,color='r',alpha=.5)# red color for malignant class\n",
    "  ax[i].hist(winners[:,i],bins=bins,color='g',alpha=0.3)# alpha is           for transparency in the overlapped region\n",
    "  print('assigned histogram, now try labels.')\n",
    "  ax[i].set_title(opt_sample.columns.values[i],fontsize=9)\n",
    "  ax[i].axes.get_xaxis().set_visible(False) # the x-axis co-ordinates are not so useful, as we just want to look how well separated the histograms are\n",
    "  ax[i].set_yticks(())\n",
    "ax[0].legend(['losers','winners'],loc='best',fontsize=8)\n",
    "plt.tight_layout()# let's make good plots\n",
    "plt.show()\n"
   ]
  },
  {
   "cell_type": "markdown",
   "metadata": {},
   "source": [
    "In the thumbnail charts, which features show better separation between winning and losing trades? Look at the bottom chart on the left. It shows perfect separation between the loising trades (red bar) and winning trades (green bar). Wait a minute, that's no feature! it is the label. No wonder it has perfect separation. "
   ]
  },
  {
   "cell_type": "markdown",
   "metadata": {},
   "source": [
    "Scale the feature data with StandardScaler\n",
    "         Why scale the data? How does StandardScaler do the scaling?\n",
    "     Reduce the feature count with SKLearn Variancethreshold.\n",
    "         How does VarianceThreshold work?\n",
    "         Which features did it eliminate? \n",
    "     Use PCA to reduce dimensionality. \n",
    "         Describe PCA. Why reduce dimensionality? \n",
    "         Plot the data with 2-D PCA. What does the plot tell you?\n",
    "     Train and test SVC against the new data set.\n",
    "         Compare accuracy and precision-recall for the two runs.\n"
   ]
  },
  {
   "cell_type": "markdown",
   "metadata": {},
   "source": [
    "## Section 4 - First, Search the Grid"
   ]
  },
  {
   "cell_type": "markdown",
   "metadata": {},
   "source": [
    "Section 4: Grid Search\n",
    "     Run GridSearchCV on the data set.\n",
    "         What does GridSearch do?\n",
    "         How did it do on this data set?\n",
    "         \n",
    "         \n",
    "         Do a matplot lib visualization of a grid search with a 2D gric.\n"
   ]
  },
  {
   "cell_type": "markdown",
   "metadata": {},
   "source": [
    "## Section 5 - Test Different Classifiers"
   ]
  },
  {
   "cell_type": "markdown",
   "metadata": {},
   "source": [
    "Review the function to train, test, and measure different classifiers. Review and run the function in the code."
   ]
  },
  {
   "cell_type": "code",
   "execution_count": 4,
   "metadata": {},
   "outputs": [],
   "source": [
    "def RunLearners(Xr_train, Xr_test, yr_train, yr_test, all_run_stats, run_ID):\n",
    "    \n",
    "   this_run_stats = pd.DataFrame()\n",
    "   \n",
    "   learners = {'RandomForest_d3': RandomForestClassifier(max_depth=3, random_state=97),\n",
    "               'RandomForest_d6': RandomForestClassifier(max_depth=6, random_state=97),\n",
    "               'RandomForest_d9': RandomForestClassifier(max_depth=9, random_state=97),\n",
    "               'KNNeighbors_3'    : KNeighborsClassifier(n_neighbors=3),\n",
    "               'KNNeighbors_5'    : KNeighborsClassifier(n_neighbors=5),\n",
    "               'KNNeighbors_8'    : KNeighborsClassifier(n_neighbors=8),\n",
    "               'MLPerceptron'   : MLPClassifier(alpha=1, max_iter=1000),\n",
    "               'SVC linear'     : svm.SVC(kernel = 'linear'),\n",
    "               'SVC poly'       : svm.SVC(kernel = 'poly'),\n",
    "               'SVC sigmoid'    : svm.SVC(kernel = 'sigmoid')\n",
    "               }\n",
    "\n",
    "   learner_types = learners.keys()\n",
    "   for learner in learner_types:\n",
    "      clf = learners[learner]\n",
    "      clf.fit(Xr_train, yr_train)\n",
    "      yr_pred = clf.predict(X_test)\n",
    "\n",
    "      print()\n",
    "      print('for learner ', learner)\n",
    "      print(learner, ' accuracy      = ', metrics.accuracy_score(yr_test, yr_pred))\n",
    "      print(learner, ' avg. precison = ', metrics.average_precision_score(yr_test, yr_pred))\n",
    "\n",
    "      this_run_stats.loc[learner, 'Accuracy'] = metrics.accuracy_score(yr_test, yr_pred)\n",
    "      this_run_stats.loc[learner, 'Precision'] = metrics.average_precision_score(yr_test, yr_pred)\n",
    "\n",
    "   this_run_stats['run_ID'] = run_ID\n",
    "   all_run_stats = all_run_stats.append(this_run_stats)\n",
    "   print('all_run_stats = ')\n",
    "   print(all_run_stats)      \n"
   ]
  },
  {
   "cell_type": "markdown",
   "metadata": {},
   "source": [
    "Use the code block below to call the RunLearners function and collect performance metrics."
   ]
  },
  {
   "cell_type": "code",
   "execution_count": 5,
   "metadata": {},
   "outputs": [
    {
     "ename": "NameError",
     "evalue": "name 'opt_test' is not defined",
     "output_type": "error",
     "traceback": [
      "\u001b[1;31m---------------------------------------------------------------------------\u001b[0m",
      "\u001b[1;31mNameError\u001b[0m                                 Traceback (most recent call last)",
      "\u001b[1;32m<ipython-input-5-2538ee0be58a>\u001b[0m in \u001b[0;36m<module>\u001b[1;34m\u001b[0m\n\u001b[0;32m     14\u001b[0m \u001b[1;31m#print(X_train.shape)\u001b[0m\u001b[1;33m\u001b[0m\u001b[1;33m\u001b[0m\u001b[1;33m\u001b[0m\u001b[0m\n\u001b[0;32m     15\u001b[0m \u001b[1;33m\u001b[0m\u001b[0m\n\u001b[1;32m---> 16\u001b[1;33m \u001b[0mX_test\u001b[0m \u001b[1;33m=\u001b[0m \u001b[0mopt_test\u001b[0m\u001b[1;33m\u001b[0m\u001b[1;33m\u001b[0m\u001b[0m\n\u001b[0m\u001b[0;32m     17\u001b[0m \u001b[0my_test\u001b[0m \u001b[1;33m=\u001b[0m \u001b[0mX_test\u001b[0m\u001b[1;33m[\u001b[0m\u001b[1;33m[\u001b[0m\u001b[1;34m'label'\u001b[0m\u001b[1;33m]\u001b[0m\u001b[1;33m]\u001b[0m\u001b[1;33m.\u001b[0m\u001b[0mto_numpy\u001b[0m\u001b[1;33m(\u001b[0m\u001b[1;33m)\u001b[0m\u001b[1;33m\u001b[0m\u001b[1;33m\u001b[0m\u001b[0m\n\u001b[0;32m     18\u001b[0m \u001b[0mX_test\u001b[0m\u001b[1;33m.\u001b[0m\u001b[0mdrop\u001b[0m\u001b[1;33m(\u001b[0m\u001b[0mlabels\u001b[0m \u001b[1;33m=\u001b[0m \u001b[1;34m'label'\u001b[0m\u001b[1;33m,\u001b[0m \u001b[0maxis\u001b[0m \u001b[1;33m=\u001b[0m \u001b[1;34m'columns'\u001b[0m\u001b[1;33m,\u001b[0m \u001b[0minplace\u001b[0m \u001b[1;33m=\u001b[0m \u001b[1;32mTrue\u001b[0m\u001b[1;33m)\u001b[0m\u001b[1;33m\u001b[0m\u001b[1;33m\u001b[0m\u001b[0m\n",
      "\u001b[1;31mNameError\u001b[0m: name 'opt_test' is not defined"
     ]
    }
   ],
   "source": [
    "X_train = pd.DataFrame()\n",
    "y_train = pd.DataFrame()\n",
    "X_test  = pd.DataFrame()\n",
    "y_test  = pd.DataFrame()\n",
    "\n",
    "run_stats = pd.DataFrame()\n",
    "\n",
    "X_train = pd.read_csv('opt_sample.csv', index_col = False)\n",
    "#print(X_train.head(10))\n",
    "y_train = X_train[['label']].to_numpy()\n",
    "y_train = y_train.ravel()\n",
    "#print(y_train.shape)\n",
    "X_train.drop(labels = 'label', axis = 'columns', inplace = True)\n",
    "#print(X_train.shape)\n",
    "\n",
    "X_test = opt_test\n",
    "y_test = X_test[['label']].to_numpy()\n",
    "X_test.drop(labels = 'label', axis = 'columns', inplace = True)\n",
    "\n",
    "y_train = np.ravel(y_train)\n",
    "y_test  = np.ravel(y_test)\n",
    "#print('y_train = ', y_train)\n",
    "#print('y_test = ', y_test)\n",
    "\n",
    "run_ID = 'Initial'\n",
    "RunLearners(X_train, X_test, y_train, y_test, learner_stats, run_ID)\n",
    "\n"
   ]
  },
  {
   "cell_type": "markdown",
   "metadata": {},
   "source": [
    "Compare results for the classifiers. Why do you think some classifiers do so much better than others?\n",
    "\n",
    "Add another classifier to the list. Add some additional values to the parameters to the classifiers. Can you get better performance?\n",
    "\n",
    "What else would you like to measure? Add them to the performance df. \n",
    "\n",
    "Would you use any of these classifiers to trade stock options? Why or not?"
   ]
  },
  {
   "cell_type": "markdown",
   "metadata": {},
   "source": [
    "Use timeit to measure execution times for training each classifier and log the execution times in the performance df. Google 'python timeit' to leaarn aout this handy library. Write a simple timeit loop in the code block below before inserting timeit into the RunLearners function above."
   ]
  },
  {
   "cell_type": "code",
   "execution_count": null,
   "metadata": {},
   "outputs": [],
   "source": [
    "import timeit\n",
    "# Write a simple loop and measure its execution with timeit."
   ]
  },
  {
   "cell_type": "markdown",
   "metadata": {},
   "source": [
    "## Section 6 - Use Your Domain Knowledge to Get Better Results."
   ]
  },
  {
   "cell_type": "markdown",
   "metadata": {},
   "source": [
    "As a Data Scientist, you can do much more than just string together a series of SKLearn functions in a pipleline. You can apply your domain knowledge to change the rules, based on the preliminary results of the ML runs, to produce much better results.   \n"
   ]
  },
  {
   "cell_type": "markdown",
   "metadata": {},
   "source": [
    "### 6.1 - Introduction to Options. Selling Covered Calls"
   ]
  },
  {
   "cell_type": "markdown",
   "metadata": {},
   "source": [
    "To complete this project, you will need some domain knowledge. With this quick tutorial on selling covered calls, you will get enough knowledge to adjust the label to  produce better results.\n",
    "\n",
    "Every stock option has only six elements:\n",
    "Root         - Simply the name, or ticker symbol, of the stock. For this data set, the root (company) is ExxonMobil, or XOM.\n",
    "Option Type  - Put or Call. For this exercise, we use only calls.\n",
    "Direction    - Buy or Sell. Each option contract has a buyer and a seller. \n",
    "               For this exercise, we only sell covered calls to open a trade. You are the option seller. \n",
    "Strike       - the price the option is exercised. The example explains.\n",
    "Expiry Date  - the date the option expires. If it is not exercised on or before the expiry date, it expires worthless.\n",
    "               That's exactly what the seller wants, because then the seller gets to keep the entire fee.\n",
    "Fee (Premium)- The price per share the option buyer pays to the option seller to open the contract.\n",
    "\n",
    "The Call Option Contract - The call option buyer pays a fee (premium) to the option seller for the right to buy the stock at the strike price on or before the expiry date. The option seller receives the fee and incurs the obligation to sell the stock to the buyer at the strike price on or before the expiry date. \n",
    "\n",
    "Example:\n",
    "\n",
    "Today         - 4/03/2020\n",
    "XOM Price Now - $39.95\n",
    "Root          - XOM\n",
    "Option Type   - Call\n",
    "Strike        - $42.00\n",
    "Expiry Date   - 4/24/2020\n",
    "Option Fee    - $1.23\n",
    "         \n",
    "The option buyer pays the option seller $1.23 (the option fee) per share (minimum 100 shares per contract) for the right to buy XOM at $42.00 per share any time on or before the expiry date of 4/24/2020. If XOM price is below the strike price of $42.00 at the end of the trading day on 4//24/2020, the option buyer will not exercise the option, since the market price is below the strike price. The option will expire worthless and the option seller will keep the option fee of $1.23 per share.\n",
    "\n",
    "The option buyer's risk is fixed at the $1.23 / share the buyer paid. The option buyer's reward is unlimited. The stock price may rise a lot. There is no limit. So the option buyer has fixed (small) risk of $1.23 and unlimited reward. Pretty sweet deal, huh? \n",
    "\n",
    "The option seller has the exact opposite profile. The seller's reward is limited to the $1.23 fee received when the trde opened. The seller's risk is unlimited. The seller must sell the stock to the option buyer at the strike price ($42.00), no matter how high the actual stock price has risen. This is a funny kind of risk, actually an opportunity cost rather than a cash loss. Nonetheless, any option seller is unhappy selling the stock at a strike price of $42.00 when the market price is $48.73, for instance.\n",
    "\n",
    "Quick check:\n",
    "On 4/20/2020 XOM stock price rose to 45.65. On every other day between 4/03 and 4/24, XOM stock price traded below $42.00. On 4/24, XOM traded below $42.0 and closed at $41.07. \n",
    "    Could the buyer have closed this transaction for a profit? How and when?\n",
    "    What happened to the option if the buyer held the option until it expired at the end-of-trading on 4/24/2020? \n",
    "    Who (buyer or seller) made a profit, and how much? Who took a loss, and how much?"
   ]
  },
  {
   "cell_type": "markdown",
   "metadata": {},
   "source": [
    "### 6.2 -Tune the Label to get Better Results "
   ]
  },
  {
   "cell_type": "markdown",
   "metadata": {},
   "source": [
    "As a Data Scientist, you now have enough domain knowledge for this exercise. You are the option seller. Knowing that your reward is fixed and your risk is unlimited, how will you change the label criteria? \n",
    "\n",
    "The label criteria is currently set at 40 percent profitability for each trade. Trades with profitability < 40 percent get a 0, while trades closing above 40 percent profit get a 1. Analyze the data set to answer these questions.\n",
    "\n",
    "What is the largest loss the call seller suffered on a single trade?\n",
    "What percentage of trades resulted in a profit for the seller?\n",
    "What is the total $ earned by the seller on all these trades? Total $ lost? \n",
    "What is the average $ earned per profitable trade? Average $ lost per losing trade?\n",
    "\n",
    "Set the profitability point at four different profit levels. Compare the total profit for the seller at each different level.\n",
    "Run the ML with the new labels for each profit point. \n",
    "How does changing the label affect the ML metrics?\n",
    "Of your label choices, which value produces the best % profit? The best $ profit?"
   ]
  },
  {
   "cell_type": "markdown",
   "metadata": {},
   "source": [
    "## Section 7 - Final Exam - Find the Best Option Trades"
   ]
  },
  {
   "cell_type": "markdown",
   "metadata": {},
   "source": [
    "Run your tests for a variety of feature reductions, Learners, and profit points. \n",
    "Which combination is best? Why?\n",
    "With the visualizations and PCA, can you identify any general guidalines for a human to sell covered calls?\n",
    "Woulld you use this system to trade options? Why or not?\n",
    "\n",
    "Disclaimer: Do not try this at home! You won't lose money learning Python Machine Learning, but you certainly can lose your shirt and more trading stock options. \n"
   ]
  }
 ],
 "metadata": {
  "kernelspec": {
   "display_name": "Python 3",
   "language": "python",
   "name": "python3"
  },
  "language_info": {
   "codemirror_mode": {
    "name": "ipython",
    "version": 3
   },
   "file_extension": ".py",
   "mimetype": "text/x-python",
   "name": "python",
   "nbconvert_exporter": "python",
   "pygments_lexer": "ipython3",
   "version": "3.8.0"
  }
 },
 "nbformat": 4,
 "nbformat_minor": 4
}

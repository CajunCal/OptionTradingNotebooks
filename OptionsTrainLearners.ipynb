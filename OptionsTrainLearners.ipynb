{
 "cells": [
  {
   "cell_type": "markdown",
   "metadata": {},
   "source": [
    "# Teach Your Laptop to Trade Stock Options.\n",
    "# Notebook 3: Train Machine Learners.\n",
    "What could possibly go wrong?\n",
    "\n",
    "6/10/2020\n",
    "\n",
    "Internal notes - This is the live branch from OptionsTrainLearners_D1.ipynb. Develop this one, not _D1.\n",
    "\n",
    "Added XGBoost classifier, but does not work."
   ]
  },
  {
   "cell_type": "markdown",
   "metadata": {},
   "source": [
    "## Purpose of this Notebook - Train Learners to trade stock options.\n",
    "This notebook is the second in a series of notebooks that illustrate how to train a Machine learner to trade stock options, successfully, we hope. This notebook demonstrates how to train several Learners and compare them to choose the best one for your specific project. This notebook uses a data set of stock option trades for ExxonMobil (XOM) from 2017-2018 to illustrate many aspects of Machine Learning with the python SKLearn library. All the trades are short covered calls. \n",
    "\n",
    "What You Need: Basic knowledge of Python, pandas, numpy, dataframes, and statistics. \n",
    "\n",
    "What You Don't Need: Knowledge of stock options, scipy, sklearn, or Machine Learning. This project is self-contained and you will learn as you go.\n",
    "\n",
    "You will Learn:\n",
    "\n",
    "- How to display features for visual evaluation of feature quality.\n",
    "- How to set up several Learners for comparison on your feature set.\n",
    "- How to capture performance data and execution time data for comparison.\n",
    "- How to display comparison data for visual inspection.\n"
   ]
  },
  {
   "cell_type": "markdown",
   "metadata": {},
   "source": [
    "## 1. Explore the Feature Set."
   ]
  },
  {
   "cell_type": "markdown",
   "metadata": {},
   "source": [
    "Load the csv file training_features.csv into a dataframe. \n",
    "\n",
    "Although you do not need any konwledge of stock options, or even finance, to use this notebook, a little information may make it more interesting.\n",
    "\n",
    "Column Name Abbreviations\n",
    "- STO - 'Sell to Open.' A trader may sell or buy a put or call contract to open a trade.\n",
    "- ARR - 'Annual Return Rate.' The equivalent rate of return on the trade, if it expires, on an annual basis.\n",
    "- strike_delta% - The difference between the stock price and the option strike price (the delta) as a % of stock price.\n",
    "- days long - The number of days from the trade date to the expiry date.\n",
    "\n",
    "Evaluation Questions: \n",
    "- Do think these features are sufficient to predict the profitability of this type of option trade? Why, why not?\n",
    "- What other features would you add to this feature set?\n",
    "- How will you evaluate feature quality and contribbution to the results?\n",
    "\n",
    "Code Questions:\n",
    "- How many features are in this feature set?\n",
    "- What is the data type of each feature?\n",
    "- What are the statistics of each feature? Get the min, max, mean, and standard deviation of each.\n"
   ]
  },
  {
   "cell_type": "code",
   "execution_count": 1,
   "metadata": {
    "scrolled": true
   },
   "outputs": [
    {
     "name": "stdout",
     "output_type": "stream",
     "text": [
      "   Unnamed: 0  stock_price_at_STO_offer  STO_strike  STO_days_long  \\\n",
      "0           0                     81.82        80.0           11.0   \n",
      "1           1                     81.81        80.0           11.0   \n",
      "2           2                     81.82        80.5           11.0   \n",
      "3           3                     81.81        80.5           11.0   \n",
      "4           4                     82.10        80.5           11.0   \n",
      "\n",
      "   STO_offer_ARR  stock_price_at_open  STO_ask_fee%  STO_offer_strike_delta%  \\\n",
      "0       0.786760                82.10      0.023711                -0.022244   \n",
      "1       0.784828                82.10      0.023652                -0.022124   \n",
      "2       0.618458                82.10      0.018638                -0.016133   \n",
      "3       0.608394                82.10      0.018335                -0.016013   \n",
      "4       0.701224                82.14      0.021133                -0.019488   \n",
      "\n",
      "   Closed_xtn_Profit$  Closed_xtn_Profit%  ...        MFI     MACD  \\\n",
      "0              -610.0           -0.316062  ...  51.016173 -0.20322   \n",
      "1              -615.0           -0.319481  ...  51.016173 -0.20322   \n",
      "2              -525.0           -0.346535  ...  51.016173 -0.20322   \n",
      "3              -550.0           -0.369128  ...  51.016173 -0.20322   \n",
      "4              -315.0           -0.182609  ...  51.016173 -0.20322   \n",
      "\n",
      "   45 day vel  30 day vel  15 day vel  10 day vel  5 day vel  2 day vel  \\\n",
      "0   -0.009706   -0.026812   -0.123964    0.055939      0.061       0.39   \n",
      "1   -0.009706   -0.026812   -0.123964    0.055939      0.061       0.39   \n",
      "2   -0.009706   -0.026812   -0.123964    0.055939      0.061       0.39   \n",
      "3   -0.009706   -0.026812   -0.123964    0.055939      0.061       0.39   \n",
      "4   -0.009706   -0.026812   -0.123964    0.055939      0.061       0.39   \n",
      "\n",
      "   ER - Expiry  label  \n",
      "0         80.0      0  \n",
      "1         80.0      0  \n",
      "2         80.0      0  \n",
      "3         80.0      0  \n",
      "4         80.0      0  \n",
      "\n",
      "[5 rows x 32 columns]\n",
      "['Unnamed: 0', 'stock_price_at_STO_offer', 'STO_strike', 'STO_days_long', 'STO_offer_ARR', 'stock_price_at_open', 'STO_ask_fee%', 'STO_offer_strike_delta%', 'Closed_xtn_Profit$', 'Closed_xtn_Profit%', '45 day SMA', '30 day SMA', '15 day SMA', '10 day SMA', 'Yearly Min', 'Yearly Max', '1 days old', '2 days old', '3 days old', '4 days old', '5 days old', 'RSI', 'MFI', 'MACD', '45 day vel', '30 day vel', '15 day vel', '10 day vel', '5 day vel', '2 day vel', 'ER - Expiry', 'label']\n"
     ]
    }
   ],
   "source": [
    "import pandas as pd\n",
    "import numpy as np\n",
    "training_features = pd.DataFrame()\n",
    "training_features = pd.read_csv('training_features_wlabel.csv', index_col = False)\n",
    "print(training_features.head(5))\n",
    "print(training_features.columns.to_list())"
   ]
  },
  {
   "cell_type": "markdown",
   "metadata": {},
   "source": [
    "## 2. Visualize the Feature Set"
   ]
  },
  {
   "cell_type": "markdown",
   "metadata": {},
   "source": [
    "With Matplotlib, compare the features when grouped by proitable trades ('winners' with label = 1) vs. unprofitable trades ('losers' with label = 0). "
   ]
  },
  {
   "cell_type": "code",
   "execution_count": 2,
   "metadata": {},
   "outputs": [
    {
     "name": "stdout",
     "output_type": "stream",
     "text": [
      "(5577, 29)\n",
      "setting up bins.\n"
     ]
    },
    {
     "data": {
      "image/png": "[encoded data removed]",
      "text/plain": [
       "<Figure size 864x1080 with 30 Axes>"
      ]
     },
     "metadata": {
      "needs_background": "light"
     },
     "output_type": "display_data"
    }
   ],
   "source": [
    "import matplotlib\n",
    "import matplotlib.pyplot as plt\n",
    "\n",
    "opt_sample = pd.read_csv('opt_sample.csv', index_col = 0)\n",
    "print(opt_sample.shape)\n",
    "#print(opt_sample.head(5))\n",
    "fig,axes =plt.subplots(10,3, figsize=(12, 15)) # 3 columns each containing 9 figures, total 27 features\n",
    "winners = opt_sample[opt_sample['label']==1]    # define winners\n",
    "losers  = opt_sample[opt_sample['label']==0]    # define losers\n",
    "\n",
    "winners = winners.to_numpy()\n",
    "losers  = losers.to_numpy()\n",
    "opt_np = opt_sample.to_numpy()\n",
    "\n",
    "ax=axes.ravel()# flat axes with numpy ravel\n",
    "\n",
    "print('setting up bins.') \n",
    "for i in range(len(opt_sample.columns.values)):\n",
    "  _,bins=np.histogram(opt_np[:,i],bins=40)\n",
    "  \n",
    "  ax[i].hist(losers[:,i],bins=bins,color='r',alpha=.5)# red color for malignant class\n",
    "  ax[i].hist(winners[:,i],bins=bins,color='g',alpha=0.3)# alpha is           for transparency in the overlapped region\n",
    "  ax[i].set_title(opt_sample.columns.values[i],fontsize=9)\n",
    "  ax[i].axes.get_xaxis().set_visible(False) # the x-axis co-ordinates are not so useful, as we just want to look how well separated the histograms are\n",
    "  ax[i].set_yticks(())\n",
    "ax[0].legend(['losers','winners'],loc='best',fontsize=8)\n",
    "plt.tight_layout()# let's make good plots\n",
    "plt.show()\n"
   ]
  },
  {
   "cell_type": "markdown",
   "metadata": {},
   "source": [
    "Each chart above shows a collection of green bars and red bars for a single feature. \n",
    "\n",
    "Evaluation Questions:\n",
    " - What is the meaning of the green bars and red bars?\n",
    " - By looking at the charts, can you identify which features contain more information to train the Learners? How? Why?\n",
    " - Which chart shows perfect separation between the red and green bars. Why?\n",
    " - Can we use this feature to train the Learners? Why, why not?\n",
    " - In your opinion, can we train the Learners effectively with this set of features? Why, why not? \n",
    " \n",
    " Code Questions:\n",
    " - Develop a single metric that defines the relationship between red and greed data points for each feature.\n",
    " - Compare your metric to the charts. Does your metric provide additional insight? Why, why not.\n",
    " - Calculate the correlation matrix of all the features. Hint, this is a single line of code with a dataframe.\n",
    " - Rank the features with the highest correlation, then plot the correlation as a series of charts. Any benefit?\n",
    " - Rank the correlation of each feature with the label, then plot. Any additional benefit?\n",
    " \n",
    "The correlation analysis is one method to perform feature reduction or elimination, which is a key component in feature development. The next notebook in this series shows several techniques to do feature elimination."
   ]
  },
  {
   "cell_type": "markdown",
   "metadata": {},
   "source": [
    "## 3. Write the Function to Test Different Classifiers."
   ]
  },
  {
   "cell_type": "markdown",
   "metadata": {},
   "source": [
    "Review the function to train, test, and measure different Learners. Review the online documentation for the SKLearn library and read about each of these Learners.\n",
    "\n",
    "Evaluation Questions:\n",
    " - What is a regressor? a classifier? Which should we use for this project as set up? Why?\n",
    " - How would we change the setup to use the other type? Which would be better? Why?\n",
    " - Describe each Learner in your own words. Which ones do you think will work best for this project? Why?\n",
    " - RandomForest and AdaBoost are called \"ensemble learners.\" Why?\n",
    " \n",
    "Code Questions:\n",
    " - When you execute the code block below, what output do you expect to see? Why? This is a trick question.\n",
    " - How will you add another Learner to the evaluation set? OK, then do it."
   ]
  },
  {
   "cell_type": "code",
   "execution_count": 7,
   "metadata": {},
   "outputs": [
    {
     "name": "stdout",
     "output_type": "stream",
     "text": [
      "\n",
      "No output yet. Call this function with a set of train and test features.\n",
      "Then run the code block below to prepare a set of train and test data, then call the function RunLearners\n",
      "to execute each of the Learners and collect performance metrics.\n"
     ]
    }
   ],
   "source": [
    "# Import ML Libraries from SKLearn.\n",
    "\n",
    "from sklearn import svm\n",
    "from sklearn import metrics\n",
    "from sklearn.decomposition     import PCA\n",
    "from sklearn.preprocessing     import StandardScaler\n",
    "from sklearn.neighbors         import KNeighborsClassifier\n",
    "from sklearn.neural_network    import MLPClassifier\n",
    "from sklearn.ensemble          import RandomForestClassifier, AdaBoostClassifier\n",
    "from sklearn.datasets          import make_classification\n",
    "from sklearn.neighbors         import KNeighborsClassifier\n",
    "from sklearn.neural_network    import MLPClassifier\n",
    "from sklearn.naive_bayes       import GaussianNB \n",
    "from sklearn.feature_selection import SelectKBest\n",
    "import xgboost\n",
    "from xgboost                   import XGBClassifier\n",
    "from sklearn.feature_selection import chi2\n",
    "from sklearn.metrics           import accuracy_score\n",
    "\n",
    "import time\n",
    "import random\n",
    "\n",
    "def RunLearners(Xr_train, Xr_test, yr_train, yr_test, all_run_stats, run_ID):\n",
    "   print() \n",
    "   print('Please be patient. Some of these Learners are pretty slow learners.')\n",
    "   print('If you get impatient, put in a print statement to show progress, or just use one already in place.')\n",
    "   print()\n",
    "    \n",
    "   this_run_stats = pd.DataFrame()\n",
    "   \n",
    "   learners = {#'RandomForest_d6'  : RandomForestClassifier(max_depth=3, random_state=97),\n",
    "               'RandomForest_d12' : RandomForestClassifier(max_depth=12, random_state=97),\n",
    "               'KNNeighbors_2'    : KNeighborsClassifier(n_neighbors=3),\n",
    "               #'KNNeighbors_8'    : KNeighborsClassifier(n_neighbors=8),\n",
    "               'MLPerceptron'     : MLPClassifier(alpha=1, max_iter=1000),\n",
    "               'SVC linear'       : svm.SVC(kernel = 'linear'),\n",
    "               'SVC poly'         : svm.SVC(kernel = 'poly'),\n",
    "               'GaussianNB'       : GaussianNB(),\n",
    "               'AdaBoost'         : AdaBoostClassifier(),\n",
    "               'XGBoost'          : XGBClassifier()\n",
    "               #'SVC sigmoid'      : svm.SVC(kernel = 'sigmoid')\n",
    "               }\n",
    "\n",
    "   learner_types = learners.keys()\n",
    "   for learner in learner_types:\n",
    "      clf = learners[learner]\n",
    "      start_time = time.time()  \n",
    "      clf.fit(Xr_train, yr_train)\n",
    "      end_time = time.time()\n",
    "      train_time = end_time - start_time\n",
    "      start_time = time.time()  \n",
    "      yr_pred = clf.predict(X_test)\n",
    "      end_time = time.time()\n",
    "      predict_time = end_time - start_time\n",
    "        \n",
    "      #print()\n",
    "      #print('for learner ', learner)\n",
    "      #print(learner, ' accuracy      = ', metrics.accuracy_score(yr_test, yr_pred))\n",
    "      #print(learner, ' avg. precison = ', metrics.average_precision_score(yr_test, yr_pred))\n",
    "\n",
    "      this_run_stats.loc[learner, 'Accuracy']     = metrics.accuracy_score(yr_test, yr_pred)\n",
    "      this_run_stats.loc[learner, 'Precision']    = metrics.average_precision_score(yr_test, yr_pred)\n",
    "      this_run_stats.loc[learner, 'Train time']   = train_time\n",
    "      this_run_stats.loc[learner, 'Predict time'] = predict_time\n",
    "\n",
    "   this_run_stats['run_ID'] = run_ID\n",
    "   all_run_stats = all_run_stats.append(this_run_stats)\n",
    "   return all_run_stats\n",
    "   print('all_run_stats = ')\n",
    "   print(all_run_stats) \n",
    "\n",
    "print()\n",
    "print('No output yet. Call this function with a set of train and test features.')\n",
    "print('Then run the code block below to prepare a set of train and test data, then call the function RunLearners')\n",
    "print('to execute each of the Learners and collect performance metrics.')\n"
   ]
  },
  {
   "cell_type": "markdown",
   "metadata": {},
   "source": [
    "## 4. Investigate the train and test data sets.\n",
    "Run the code block below, then consider these questions.\n",
    "\n",
    "Evaluation Questions:\n",
    "- Explain the differences between X_train, y_train, X_test, and y_test. \n",
    "- What are the dimensions of each?\n",
    "- What is the purpose of each?\n",
    "- What is the difference between a numpy array and a dataframe? Which works with a Learner?\n",
    "- How does the code modify X_train? Why?"
   ]
  },
  {
   "cell_type": "code",
   "execution_count": 8,
   "metadata": {},
   "outputs": [
    {
     "name": "stdout",
     "output_type": "stream",
     "text": [
      "y_train shape =  (5577,)\n",
      "X_train shape =  (5577, 28)\n",
      "\n",
      "Please be patient. Some of these Learners are pretty slow learners.\n",
      "If you get impatient, put in a print statement to show progress, or just use one already in place.\n",
      "\n",
      "                  Accuracy  Precision  Train time  Predict time   run_ID\n",
      "RandomForest_d12  0.965708   0.946245    1.282262      0.047989  Initial\n",
      "KNNeighbors_2     0.955199   0.921311    0.063982      0.132269  Initial\n",
      "MLPerceptron      0.837942   0.749951    5.337660      0.008000  Initial\n",
      "SVC linear        0.846792   0.772990   24.851030      0.147959  Initial\n",
      "SVC poly          0.834624   0.759835    1.266584      0.271928  Initial\n",
      "GaussianNB        0.694690   0.595571    0.007998      0.003999  Initial\n",
      "AdaBoost          0.892699   0.834792    0.805011      0.046867  Initial\n",
      "XGBoost           0.991704   0.985255    0.997176      0.011997  Initial\n"
     ]
    }
   ],
   "source": [
    "# Prepare the test and train data sets.\n",
    "\n",
    "X_train = pd.DataFrame()\n",
    "y_train = pd.DataFrame()\n",
    "X_test  = pd.DataFrame()\n",
    "y_test  = pd.DataFrame()\n",
    "\n",
    "learner_stats = pd.DataFrame()\n",
    "\n",
    "X_train  = pd.read_csv('opt_sample.csv', index_col = 0)\n",
    "\n",
    "#print(X_train.head(10))\n",
    "y_train = X_train[['label']].to_numpy()\n",
    "y_train = y_train.ravel()\n",
    "print('y_train shape = ', y_train.shape)\n",
    "X_train.drop(labels = 'label', axis = 'columns', inplace = True)\n",
    "print('X_train shape = ', X_train.shape)\n",
    "\n",
    "X_test = pd.read_csv('opt_test.csv', index_col = 0)\n",
    "y_test = X_test[['label']].to_numpy()\n",
    "X_test.drop(labels = 'label', axis = 'columns', inplace = True)\n",
    "\n",
    "y_train = np.ravel(y_train)\n",
    "y_test  = np.ravel(y_test)\n",
    "#print('y_train = ', y_train)\n",
    "#print('y_test = ', y_test)\n",
    "\n",
    "run_ID = 'Initial'\n",
    "learner_stats = RunLearners(X_train, X_test, y_train, y_test, learner_stats, run_ID)\n",
    "print(learner_stats)\n",
    "learner_stats.to_csv('learner_stats.csv')"
   ]
  },
  {
   "cell_type": "markdown",
   "metadata": {},
   "source": [
    "## 5. Plot and Compare Performance of the Learners."
   ]
  },
  {
   "cell_type": "code",
   "execution_count": 9,
   "metadata": {},
   "outputs": [
    {
     "data": {
      "image/png": "[encoded data removed]",
      "text/plain": [
       "<Figure size 1008x432 with 1 Axes>"
      ]
     },
     "metadata": {
      "needs_background": "light"
     },
     "output_type": "display_data"
    }
   ],
   "source": [
    "#Print and compare Learner performance in grouped bar chart format\n",
    "\n",
    "def PlotGroupedBarChart(group_list, agent_list, scores):\n",
    "   \n",
    "    agent_scores = []\n",
    "    rects = []\n",
    "    labels = group_list # bar chart groups\n",
    "    num_labels = len(labels) + 1\n",
    "\n",
    "    num_agents = len(agent_list) + 1\n",
    "    num_bars = num_labels * num_agents\n",
    "    bar_width = 3 / num_bars\n",
    "    width = .35\n",
    "    \n",
    "    plt.rcParams['figure.figsize'] = [14,6]\n",
    "\n",
    "    x = np.arange(len(labels))  # the label locations\n",
    "\n",
    "    fig, ax = plt.subplots()\n",
    "    num_bars = len(agent_list)\n",
    "    bar_posn = 0\n",
    "    for agent in agent_list:\n",
    "        agent_scores = [scores.loc[agent, labels[0]], scores.loc[agent, labels[1]]]\n",
    "        rects.append(ax.bar(x - width/2  + bar_width * bar_posn, agent_scores, bar_width, label=agent))\n",
    "        bar_posn += 1\n",
    "    \n",
    "    # Add some text for labels, title and custom x-axis tick labels, etc.\n",
    "    ax.set_ylabel('Percent Score')\n",
    "    ax.set_title('Performance Scores by Metric and Learner')\n",
    "    ax.set_xticks(x)\n",
    "    ax.set_xticklabels(labels)\n",
    "    ax.legend()\n",
    "    \n",
    "    plt.legend(bbox_to_anchor=(1.05, 1), loc='upper left', borderaxespad=0.)\n",
    "\n",
    "    #plt.legend(loc = 'lower right')\n",
    "    fig.tight_layout()\n",
    "    plt.show()\n",
    "    \n",
    "#Run the plot function to compare performance of the Learners.\n",
    "\n",
    "metrics = ['Accuracy', 'Precision']\n",
    "agents  = learner_stats.index.tolist()\n",
    "\n",
    "PlotGroupedBarChart(metrics, agents, learner_stats)"
   ]
  },
  {
   "cell_type": "markdown",
   "metadata": {},
   "source": [
    "Refer to the performance chart above to answer these questions:\n",
    "\n",
    "Evaluation Questions:\n",
    "- What is the difference between accuracy and precision? What other performance metrics might be useful here?\n",
    "- Which Learner performed best on both metrics?\n",
    "- Comparing RandomForest Learners, what do the suffixes mean?\n",
    "- Whic RandomForest did better? Why?\n",
    "- What problems would you expect to see if we continued increasing the d parameter?\n",
    "- How can you find the best value for the d parameter?\n",
    "- Do the same comparison and analysis for the KNNeighbors numeric suffix.\n",
    "- Why did RandomForest and KNNeighbors perform so much better than MLPerceptron and SVC?\n",
    "- Based on the performance parameters, would you consider this exercise to be linear, nonlinear, or other? Why, why not?\n",
    "\n",
    "Code Questions:\n",
    "- Change the parameter suffixes and corresponding parameters for KNNeighbor and RandomForest. Explain the results.\n",
    "- Test another type of classifier. Predict the results for that classifier, then run it and compare to your prediction. \n",
    "- Change the parameters for SVC and MLP. Can you improve their performance with different parameters?\n",
    "- Change the y axis of the plot to expand the performance differences of the Learners. Is that better, or just deceptive?\n"
   ]
  },
  {
   "cell_type": "code",
   "execution_count": 10,
   "metadata": {},
   "outputs": [
    {
     "data": {
      "image/png": "[encoded data removed]",
      "text/plain": [
       "<Figure size 1008x432 with 1 Axes>"
      ]
     },
     "metadata": {
      "needs_background": "light"
     },
     "output_type": "display_data"
    }
   ],
   "source": [
    "#Run the plot function to compare execution time of the Learners.\n",
    "\n",
    "#Plot execution time metrics\n",
    "exec_times = ['Train time', 'Predict time']\n",
    "\n",
    "PlotGroupedBarChart(exec_times, agents, learner_stats)\n"
   ]
  },
  {
   "cell_type": "markdown",
   "metadata": {},
   "source": [
    "\n",
    "Refer to the chart above to answer these questions about execution times.\n",
    "\n",
    "Evaluation Questions:\n",
    "- Why does SVC Linear take so long to train?\n",
    "- Why does KNNeighbors train so quickly?\n",
    "- Why does RandomForest train time increase as the d parameter increases?\n",
    "- Why is prediction time so much faster than train time for all Learners?\n",
    "- Which is more important - train time or prediction time? Why? What circumstances?\n",
    "- What circumstances or requirements might change the relative importance of train time vs. prediciton time?\n",
    "- Given the execution times above, can you predict how train time will change as the training data set increases? Why?\n",
    "\n",
    "Code Questions:\n",
    "- In the chart, execution times are not well displayed. Change the chart to improve their display.\n",
    "- Which data sets are used for training?\n",
    "- Make those data sets 50% smaller, then 90% smaller, then rerun the Learners and plot the results.\n",
    "- How do the results change with the smaller data sets? Why?"
   ]
  },
  {
   "cell_type": "markdown",
   "metadata": {},
   "source": [
    "## Congratulations, You trained and compared several Learners."
   ]
  },
  {
   "cell_type": "markdown",
   "metadata": {},
   "source": [
    "Congratulations! You just trained several Learners to pick winning stock option trades. Now, you are almost ready to make a fortune in the stock market. But, first... consider these questions:\n",
    "\n",
    "- How can you improve the feature set? \n",
    "- Which Learner(s) would you choose? Why?\n",
    "- How can you gain more confidence in your trader?\n",
    "- What is your goal? Single profitable trades, or a portfolio of trades? What's the difference?\n",
    "\n",
    "Tune into the next exciting notebook to explore questions of maximizing portfolio results for options trading. \n",
    "\n",
    "Wishing you only profitable trades and good learning,\n",
    "\n",
    "Richard Barrett\n",
    "\n",
    "richard at rbshomes dot com.\n",
    "925.858.9017\n",
    "\n",
    "P.S. I want to hear about your adventures in Machine Learning, your questions and comments about stock option trading, and especially your specific applications for machine learning. Just shoot me an email, a text, or even call.\n"
   ]
  }
 ],
 "metadata": {
  "kernelspec": {
   "display_name": "Python 3",
   "language": "python",
   "name": "python3"
  },
  "language_info": {
   "codemirror_mode": {
    "name": "ipython",
    "version": 3
   },
   "file_extension": ".py",
   "mimetype": "text/x-python",
   "name": "python",
   "nbconvert_exporter": "python",
   "pygments_lexer": "ipython3",
   "version": "3.8.4rc1"
  }
 },
 "nbformat": 4,
 "nbformat_minor": 4
}

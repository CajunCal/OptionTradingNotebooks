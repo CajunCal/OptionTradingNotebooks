{
 "cells": [
  {
   "cell_type": "markdown",
   "metadata": {},
   "source": [
    "# Teach Your Laptop to Trade Stock Options.\n",
    "# Notebook 6: Use a LIME to Analyze a Single Prediction.\n",
    "01/05/2021\n",
    "\n",
    "In the previous notebook we reviewed several methods to analyze feature importance from the Learner point of view. Since the Learner is doing the prediction, we might argue that the Learner's point of view is the only view that counts.\n",
    "\n",
    "However, feature importance has a big limitation. It applies to the features over the entire data set. Suppose that a Learner makes life or death decisions and got 997 correct predictions out of 1,000 trials. Then 997 people are delighted, but three (the false positives) are pretty darn unlucky. Those three people might want us to drill down into how/why the Learner made the wrong decision in those three specific predictions. \n",
    "\n",
    "OK, life or death predictions may be a little extreme, even though medical experts already use ML to analyze X-ray images to find cancerous tumors. \n",
    "\n",
    "More broadly, we want to develop trust in the model by \n",
    "\n",
    "For this notebook, let's use LIME to analyze the false positives and false negatives (FP and FN) for the covered call option trades in the previous notebooks in this series. Why the concern about FPs and FNs? If we are trading the predictions, then the FPs and FNs are where we lose money. If we trade every prediction, then we make money on every true positive (TP) prediction. The Learner predicted the trade would close positive and it did. We made a profit. For every true negative (TN) prediction the Learner predicted the trade would close at a loss and it did. By avoiding that trade, we did not lose money. \n",
    "\n",
    "But, when the Learner predicted thetrade would close positive and it did not, clearly a FP, we lost money making that trade. With a FN, we lost the opportunity to make money. So we have a strong motivation to understand how/why the Learner made the FP and FN predictions. For analysis of specific predictions, we cannot use tools and metrics that analyze all predictions. We need a tool that drills deep into individual predictions.\n",
    "\n",
    "In this notebook we use LIME to analyze specific FP and FN predictions to understand how/why the Learner failed to predict correctly. With this knowledge, perhaps we can improve the input feature set to correct those errors. At the least, perhaps we can identify the types of situations that cause FPs and avoid those.\n"
   ]
  },
  {
   "cell_type": "markdown",
   "metadata": {},
   "source": [
    "## Purpose of this Notebook - Analyze Specific FP and FN Predictions with LIME. \n",
    "As you already know from previous notebooks in this series, this data set is a set of option trades for covered calls. All the trades are short covered calls for XOM through the period 2017. The Learners predict which trades (short covered calls) will be profitable.\n",
    "\n",
    "What You Need: Basic knowledge of Python, pandas, numpy, dataframes, and statistics. \n",
    "\n",
    "What You Don't Need: Knowledge of LIME, stock options, scipy, sklearn, or Machine Learning. This project is self-contained and you will learn as you go.\n",
    "\n",
    "You will Learn:\n",
    "\n",
    "- What is the structure of LIME.\n",
    "- How to use LIME to analyze how the Learners used each feature to generate predictions for specific instances or trials. \n",
    "- How to compare predictions from different learners for specific instances using LIME.\n"
   ]
  },
  {
   "cell_type": "markdown",
   "metadata": {},
   "source": [
    "## 1. Load the feature set and train the Learners."
   ]
  },
  {
   "cell_type": "markdown",
   "metadata": {},
   "source": [
    "These steps are covered in detail in notebook 3, so for this exercise we will not discuss in detail.\n"
   ]
  },
  {
   "cell_type": "code",
   "execution_count": 1,
   "metadata": {
    "scrolled": true
   },
   "outputs": [],
   "source": [
    "import pandas as pd\n",
    "import numpy as np\n",
    "training_features = pd.DataFrame()\n",
    "training_features = pd.read_csv('training_features_wlabel.csv', index_col = False)\n"
   ]
  },
  {
   "cell_type": "markdown",
   "metadata": {},
   "source": [
    "## 2. Set up the Learner Function. "
   ]
  },
  {
   "cell_type": "code",
   "execution_count": 2,
   "metadata": {},
   "outputs": [
    {
     "name": "stdout",
     "output_type": "stream",
     "text": [
      "\n",
      "No output yet. Call this function with a set of train and test features.\n"
     ]
    }
   ],
   "source": [
    "# Import ML Libraries from SKLearn.\n",
    "\n",
    "import lightgbm\n",
    "from lightgbm import LGBMClassifier as LGBMC\n",
    "\n",
    "from sklearn import svm\n",
    "from sklearn import metrics\n",
    "\n",
    "from sklearn.decomposition     import PCA\n",
    "from sklearn.preprocessing     import StandardScaler\n",
    "from sklearn.neighbors         import KNeighborsClassifier\n",
    "from sklearn.neural_network    import MLPClassifier\n",
    "from sklearn.ensemble          import RandomForestClassifier, AdaBoostClassifier, GradientBoostingClassifier\n",
    "from sklearn.datasets          import make_classification\n",
    "from sklearn.neighbors         import KNeighborsClassifier\n",
    "from sklearn.neural_network    import MLPClassifier\n",
    "from sklearn.naive_bayes       import GaussianNB \n",
    "from sklearn.feature_selection import SelectKBest\n",
    "import xgboost\n",
    "from xgboost                   import XGBClassifier\n",
    "import catboost\n",
    "from catboost                  import CatBoostClassifier\n",
    "from sklearn.feature_selection import chi2\n",
    "\n",
    "import time\n",
    "import random\n",
    "\n",
    "def RunLearners(Xr_train, Xr_test, yr_train, yr_test, all_run_stats, stats_columns, run_ID):\n",
    "    print() \n",
    "    print('Please be patient. Some of these Learners are pretty slow learners.')\n",
    "    print('If you get impatient, put in a print statement to show progress, or just use one already in place.')\n",
    "    print()\n",
    "    \n",
    "    learners = {#'SVC sigmoid'      : svm.SVC(kernel = 'sigmoid'),\n",
    "                #'SVC linear'       : svm.SVC(kernel = 'linear'),\n",
    "                #'SVC poly'         : svm.SVC(kernel = 'poly'),\n",
    "                #'GaussianNB'       : GaussianNB(),\n",
    "                'MLPerceptron'     : MLPClassifier(alpha=1, max_iter=1000),\n",
    "                'AdaBoost'         : AdaBoostClassifier(),\n",
    "                #'RandomForest_d6'  : RandomForestClassifier(max_depth=3, random_state=97),\n",
    "                #'KNNeighbors_2'    : KNeighborsClassifier(n_neighbors=3),\n",
    "                'KNNeighbors_8'    : KNeighborsClassifier(n_neighbors=8),\n",
    "                'GradientBoost'    : GradientBoostingClassifier(),\n",
    "                'RandomForest_d12' : RandomForestClassifier(max_depth=12, random_state=97),\n",
    "                'XGBoost'          : XGBClassifier(random_state = 97),\n",
    "                'CatBoost'         : CatBoostClassifier(verbose = False, iterations = 300),\n",
    "                'LightGBoost'      : LGBMC()\n",
    "               }\n",
    "    \n",
    "    learner_types = learners.keys()\n",
    "    for learner in learner_types: \n",
    "        print(learner ,'is learning now.')   \n",
    "        clf = learners[learner]\n",
    "        start_time = time.time()  \n",
    "        clf.fit(Xr_train, yr_train)\n",
    "        end_time = time.time()\n",
    "        \n",
    "        train_time = end_time - start_time\n",
    "        start_time = time.time()  \n",
    "        yr_pred = clf.predict(X_test)\n",
    "        end_time = time.time()\n",
    "        predict_time = end_time - start_time\n",
    "        \n",
    "        #Performance Metrics\n",
    "        accuracy       = metrics.accuracy_score(yr_test, yr_pred)\n",
    "        precision      = metrics.average_precision_score(yr_test, yr_pred)\n",
    "        recall         = metrics.recall_score(yr_test, yr_pred, labels=None, pos_label=1, \n",
    "                                         average='binary', sample_weight=None, zero_division='warn')\n",
    "        F1_score       = metrics.f1_score(yr_test, yr_pred, labels=None, pos_label=1, average='binary', \n",
    "                                     sample_weight=None, zero_division='warn')\n",
    "        tn, fp, fn, tp = metrics.confusion_matrix(yr_test, yr_pred, labels=None, sample_weight=None, normalize=None).ravel()\n",
    "        mcc            = metrics.matthews_corrcoef(yr_test, yr_pred, sample_weight=None)\n",
    "        \n",
    "        learner_metrics_dict = {'Learner'  : [learner],\n",
    "                                'Accuracy' : [accuracy],\n",
    "                                'Precision': [precision], \n",
    "                                'Recall'   : [recall],\n",
    "                                'MCC'      : [mcc],\n",
    "                                'True Neg' : [tn],\n",
    "                                'False Pos': [fp], \n",
    "                                'False Neg': [fn], \n",
    "                                'True Pos' : [tp],\n",
    "                                'Train Time': [train_time],\n",
    "                                'Predict Time': [predict_time], \n",
    "                                'Run_ID'      : [run_ID]\n",
    "                               }\n",
    "                \n",
    "        this_run_stats = pd.DataFrame(data = learner_metrics_dict)         \n",
    "        all_run_stats = all_run_stats.append(this_run_stats)\n",
    "    return all_run_stats\n",
    "\n",
    "print()\n",
    "print('No output yet. Call this function with a set of train and test features.')\n"
   ]
  },
  {
   "cell_type": "code",
   "execution_count": 6,
   "metadata": {},
   "outputs": [
    {
     "name": "stdout",
     "output_type": "stream",
     "text": [
      "y_train shape =  (5577,)\n",
      "X_train shape =  (5577, 28)\n",
      "y_train shape =  (5577,)\n",
      "\n",
      "Please be patient. Some of these Learners are pretty slow learners.\n",
      "If you get impatient, put in a print statement to show progress, or just use one already in place.\n",
      "\n",
      "MLPerceptron is learning now.\n"
     ]
    },
    {
     "ename": "AttributeError",
     "evalue": "'DataFrame' object has no attribute 'accuracy_score'",
     "output_type": "error",
     "traceback": [
      "\u001b[1;31m---------------------------------------------------------------------------\u001b[0m",
      "\u001b[1;31mAttributeError\u001b[0m                            Traceback (most recent call last)",
      "\u001b[1;32m<ipython-input-6-3b59ce65e085>\u001b[0m in \u001b[0;36m<module>\u001b[1;34m\u001b[0m\n\u001b[0;32m     26\u001b[0m \u001b[0mrun_ID\u001b[0m \u001b[1;33m=\u001b[0m \u001b[1;34m'Initial'\u001b[0m\u001b[1;33m\u001b[0m\u001b[1;33m\u001b[0m\u001b[0m\n\u001b[0;32m     27\u001b[0m \u001b[1;33m\u001b[0m\u001b[0m\n\u001b[1;32m---> 28\u001b[1;33m \u001b[0mlearner_stats\u001b[0m \u001b[1;33m=\u001b[0m \u001b[0mRunLearners\u001b[0m\u001b[1;33m(\u001b[0m\u001b[0mX_train\u001b[0m\u001b[1;33m,\u001b[0m \u001b[0mX_test\u001b[0m\u001b[1;33m,\u001b[0m \u001b[0my_train\u001b[0m\u001b[1;33m,\u001b[0m \u001b[0my_test\u001b[0m\u001b[1;33m,\u001b[0m \u001b[0mlearner_stats\u001b[0m\u001b[1;33m,\u001b[0m \u001b[0mstats_columns\u001b[0m\u001b[1;33m,\u001b[0m \u001b[0mrun_ID\u001b[0m\u001b[1;33m)\u001b[0m\u001b[1;33m\u001b[0m\u001b[1;33m\u001b[0m\u001b[0m\n\u001b[0m\u001b[0;32m     29\u001b[0m \u001b[0mlearner_stats\u001b[0m\u001b[1;33m[\u001b[0m\u001b[1;34m'sample count'\u001b[0m\u001b[1;33m]\u001b[0m \u001b[1;33m=\u001b[0m \u001b[0mlearner_stats\u001b[0m\u001b[1;33m[\u001b[0m\u001b[1;34m'True Neg'\u001b[0m\u001b[1;33m]\u001b[0m  \u001b[1;33m+\u001b[0m \u001b[0mlearner_stats\u001b[0m\u001b[1;33m[\u001b[0m\u001b[1;34m'True Pos'\u001b[0m\u001b[1;33m]\u001b[0m \u001b[1;33m+\u001b[0m\u001b[0;31m \u001b[0m\u001b[0;31m\\\u001b[0m\u001b[1;33m\u001b[0m\u001b[1;33m\u001b[0m\u001b[0m\n\u001b[0;32m     30\u001b[0m                                 \u001b[0mlearner_stats\u001b[0m\u001b[1;33m[\u001b[0m\u001b[1;34m'False Neg'\u001b[0m\u001b[1;33m]\u001b[0m \u001b[1;33m+\u001b[0m \u001b[0mlearner_stats\u001b[0m\u001b[1;33m[\u001b[0m\u001b[1;34m'False Pos'\u001b[0m\u001b[1;33m]\u001b[0m\u001b[1;33m\u001b[0m\u001b[1;33m\u001b[0m\u001b[0m\n",
      "\u001b[1;32m<ipython-input-2-92c1bdd222e4>\u001b[0m in \u001b[0;36mRunLearners\u001b[1;34m(Xr_train, Xr_test, yr_train, yr_test, all_run_stats, stats_columns, run_ID)\u001b[0m\n\u001b[0;32m     63\u001b[0m \u001b[1;33m\u001b[0m\u001b[0m\n\u001b[0;32m     64\u001b[0m         \u001b[1;31m#Performance Metrics\u001b[0m\u001b[1;33m\u001b[0m\u001b[1;33m\u001b[0m\u001b[1;33m\u001b[0m\u001b[0m\n\u001b[1;32m---> 65\u001b[1;33m         \u001b[0maccuracy\u001b[0m       \u001b[1;33m=\u001b[0m \u001b[0mmetrics\u001b[0m\u001b[1;33m.\u001b[0m\u001b[0maccuracy_score\u001b[0m\u001b[1;33m(\u001b[0m\u001b[0myr_test\u001b[0m\u001b[1;33m,\u001b[0m \u001b[0myr_pred\u001b[0m\u001b[1;33m)\u001b[0m\u001b[1;33m\u001b[0m\u001b[1;33m\u001b[0m\u001b[0m\n\u001b[0m\u001b[0;32m     66\u001b[0m         \u001b[0mprecision\u001b[0m      \u001b[1;33m=\u001b[0m \u001b[0mmetrics\u001b[0m\u001b[1;33m.\u001b[0m\u001b[0maverage_precision_score\u001b[0m\u001b[1;33m(\u001b[0m\u001b[0myr_test\u001b[0m\u001b[1;33m,\u001b[0m \u001b[0myr_pred\u001b[0m\u001b[1;33m)\u001b[0m\u001b[1;33m\u001b[0m\u001b[1;33m\u001b[0m\u001b[0m\n\u001b[0;32m     67\u001b[0m         recall         = metrics.recall_score(yr_test, yr_pred, labels=None, pos_label=1, \n",
      "\u001b[1;32mc:\\users\\richard\\appdata\\local\\programs\\python\\python38\\lib\\site-packages\\pandas\\core\\generic.py\u001b[0m in \u001b[0;36m__getattr__\u001b[1;34m(self, name)\u001b[0m\n\u001b[0;32m   5272\u001b[0m             \u001b[1;32mif\u001b[0m \u001b[0mself\u001b[0m\u001b[1;33m.\u001b[0m\u001b[0m_info_axis\u001b[0m\u001b[1;33m.\u001b[0m\u001b[0m_can_hold_identifiers_and_holds_name\u001b[0m\u001b[1;33m(\u001b[0m\u001b[0mname\u001b[0m\u001b[1;33m)\u001b[0m\u001b[1;33m:\u001b[0m\u001b[1;33m\u001b[0m\u001b[1;33m\u001b[0m\u001b[0m\n\u001b[0;32m   5273\u001b[0m                 \u001b[1;32mreturn\u001b[0m \u001b[0mself\u001b[0m\u001b[1;33m[\u001b[0m\u001b[0mname\u001b[0m\u001b[1;33m]\u001b[0m\u001b[1;33m\u001b[0m\u001b[1;33m\u001b[0m\u001b[0m\n\u001b[1;32m-> 5274\u001b[1;33m             \u001b[1;32mreturn\u001b[0m \u001b[0mobject\u001b[0m\u001b[1;33m.\u001b[0m\u001b[0m__getattribute__\u001b[0m\u001b[1;33m(\u001b[0m\u001b[0mself\u001b[0m\u001b[1;33m,\u001b[0m \u001b[0mname\u001b[0m\u001b[1;33m)\u001b[0m\u001b[1;33m\u001b[0m\u001b[1;33m\u001b[0m\u001b[0m\n\u001b[0m\u001b[0;32m   5275\u001b[0m \u001b[1;33m\u001b[0m\u001b[0m\n\u001b[0;32m   5276\u001b[0m     \u001b[1;32mdef\u001b[0m \u001b[0m__setattr__\u001b[0m\u001b[1;33m(\u001b[0m\u001b[0mself\u001b[0m\u001b[1;33m,\u001b[0m \u001b[0mname\u001b[0m\u001b[1;33m:\u001b[0m \u001b[0mstr\u001b[0m\u001b[1;33m,\u001b[0m \u001b[0mvalue\u001b[0m\u001b[1;33m)\u001b[0m \u001b[1;33m->\u001b[0m \u001b[1;32mNone\u001b[0m\u001b[1;33m:\u001b[0m\u001b[1;33m\u001b[0m\u001b[1;33m\u001b[0m\u001b[0m\n",
      "\u001b[1;31mAttributeError\u001b[0m: 'DataFrame' object has no attribute 'accuracy_score'"
     ]
    }
   ],
   "source": [
    "# Prepare the test and train data sets.\n",
    "from sklearn.model_selection import train_test_split\n",
    "\n",
    "train_dataset_df = pd.DataFrame()\n",
    "test_dataset_df  = pd.DataFrame()\n",
    "\n",
    "train_dataset_df  = pd.read_csv('opt_sample.csv', index_col = 0)\n",
    "test_dataset_df = pd.read_csv('opt_test.csv', index_col = 0)\n",
    "option_dataset = \n",
    "\n",
    "\n",
    "stats_columns = ['Learner', 'Accuracy', 'Precision', 'Recall', 'MCC',\n",
    "                 'True Neg', 'False Neg', 'True Pos', 'False Pos', 'Train Time', 'Predict Time', 'Run_ID']\n",
    "\n",
    "learner_stats = pd.DataFrame(columns = stats_columns)\n",
    "\n",
    "\n",
    "y_train = train_dataset_df[['label']].to_numpy()\n",
    "y_train = y_train.ravel()\n",
    "print('y_train shape = ', y_train.shape)\n",
    "X_train = train_dataset_df.drop(labels = 'label', axis = 'columns')\n",
    "print('X_train shape = ', X_train.shape)\n",
    "\n",
    "test_dataset_df = pd.read_csv('opt_test.csv', index_col = 0)\n",
    "y_test = test_dataset_df[['label']].to_numpy()\n",
    "X_test = test_dataset_df.drop(labels = 'label', axis = 'columns')\n",
    "\n",
    "y_train = np.ravel(y_train)\n",
    "y_test  = np.ravel(y_test)\n",
    "print('y_train shape = ', y_train.shape)\n",
    "run_ID = 'Initial'\n",
    "\n",
    "learner_stats = RunLearners(X_train, X_test, y_train, y_test, learner_stats, stats_columns, run_ID)\n",
    "learner_stats['sample count'] = learner_stats['True Neg']  + learner_stats['True Pos'] + \\\n",
    "                                learner_stats['False Neg'] + learner_stats['False Pos']\n",
    "print()\n",
    "print(learner_stats)\n",
    "learner_stats.to_csv('learner_stats.csv')"
   ]
  },
  {
   "cell_type": "markdown",
   "metadata": {},
   "source": [
    "## 6. Plot and Compare Performance of the Learners.\n",
    "\n"
   ]
  },
  {
   "cell_type": "code",
   "execution_count": 5,
   "metadata": {
    "scrolled": true
   },
   "outputs": [
    {
     "data": {
      "text/plain": [
       "<AxesSubplot:>"
      ]
     },
     "execution_count": 5,
     "metadata": {},
     "output_type": "execute_result"
    },
    {
     "data": {
      "image/png": "[encoded data removed]",
      "text/plain": [
       "<Figure size 432x288 with 1 Axes>"
      ]
     },
     "metadata": {
      "needs_background": "light"
     },
     "output_type": "display_data"
    },
    {
     "data": {
      "image/png": "[encoded data removed]",
      "text/plain": [
       "<Figure size 432x288 with 1 Axes>"
      ]
     },
     "metadata": {
      "needs_background": "light"
     },
     "output_type": "display_data"
    },
    {
     "data": {
      "image/png": "[encoded data removed]",
      "text/plain": [
       "<Figure size 432x288 with 1 Axes>"
      ]
     },
     "metadata": {
      "needs_background": "light"
     },
     "output_type": "display_data"
    }
   ],
   "source": [
    "\n",
    "stats_for_plot = learner_stats.set_index('Learner', inplace=False, verify_integrity=False)\n",
    "stats_xp = stats_for_plot.transpose(copy = True)\n",
    "drop_rows = ['True Neg', 'False Pos', 'False Neg', 'True Pos', 'Train Time', 'Predict Time', 'Run_ID', 'sample count']\n",
    "metrics = stats_xp.drop(labels = drop_rows, axis = 0, inplace = False)\n",
    "metrics.plot.bar()\n",
    "\n",
    "drop_rows = ['Accuracy', 'Precision', 'Recall', 'MCC','Train Time', 'Predict Time', 'Run_ID', 'sample count']\n",
    "confusion = stats_xp.drop(labels = drop_rows, axis = 0, inplace = False)\n",
    "confusion.plot.bar()\n",
    "\n",
    "drop_rows = ['Accuracy', 'Precision', 'Recall', 'MCC', 'True Neg', 'False Pos', 'False Neg', \\\n",
    "             'True Pos', 'Run_ID', 'sample count']\n",
    "speed = stats_xp.drop(labels = drop_rows, axis = 0, inplace = False)\n",
    "speed.plot.bar()\n",
    "\n"
   ]
  },
  {
   "cell_type": "markdown",
   "metadata": {},
   "source": [
    "## What's a LIME?\n",
    "LIME (Local Interpretable Model-agnostic Explanations) is a method to create locally accurate explanations of how a Learner makes a prediction.\n",
    "\n",
    "LIME creates a linear model of a Learner around a specific point in feature space. Like a tangent of a circle, the straight line approximation is exactly correct at that point in feature space, then diverges more and more as the sample points move away from the initial point. LIME as that Machine Learning is often accused of being a black box. While this may be a valid criticism,many Learners have built-in methods to present their internal metrics for features, sort of like human insights into what they learned. In this section we will use some methods for several Learners to understand how they actually used the features to get such impressive results."
   ]
  },
  {
   "cell_type": "code",
   "execution_count": null,
   "metadata": {},
   "outputs": [],
   "source": [
    "import lime\n",
    "import lime.lime_tabular\n",
    "import matplotlib\n",
    "import matplotlib.pyplot as plt\n",
    "\n",
    "xgb_model = XGBClassifier()\n",
    "xgb_model.fit(X_train, y_train)\n",
    "feature_names = xgb_model.get_booster().feature_names\n",
    "\n",
    "explainer = lime.lime_tabular.LimeTabularExplainer(np_training_data, \n",
    "                                                   mode='classification',training_labels_df,feature_names)\n",
    "\n",
    "\n",
    "# asking for explanation for LIME model\n",
    "instance = 1\n",
    "exp = explainer.explain_instance(df_titanic.loc[instance,feat].astype(int).values, prob, num_features=20)\n",
    "\n",
    "importance_types = ['weight', 'gain', 'cover']\n",
    "for importance_metric in importance_types:\n",
    "    xgboost.plot_importance(xgb_model, importance_type = importance_metric, max_num_features = 20)\n",
    "    plot_title = 'XGBoost Feature Importance by '+ importance_metric\n",
    "    plt.title(plot_title)\n",
    "    plt.show()\n",
    "    scores = xgb_model.feature_importances_\n",
    "\n",
    "    \n",
    "    sorted_index = xgb_model.feature_importances_.argsort()\n",
    "    print(sorted_index)\n",
    "    print(xgb_model.feature_importances_[sorted_index])\n",
    "#    print(feature_names[sorted_index])\n",
    "#plt.barh(boston.feature_names[sorted_idx], xgb.feature_importances_[sorted_idx])\n",
    "#    plt.barh(xgb_model.feature_importances_[sorted_index])"
   ]
  },
  {
   "cell_type": "markdown",
   "metadata": {},
   "source": [
    "The charts show features scores and rankings based on internal mesurements by XGBoost for weight, gain, and cover. \n",
    "\n",
    "Weight is the number of times the feature was used to split.\n",
    "Gain is the information gain (decrease in entropy) as a result of each split.\n",
    "Cover is the number or percent of samples to which the rule applies (covers).\n",
    "\n",
    "These metrics are not mutually exclusive. In fact, their interrelatinoships are very rich. Consider the feature ER-Expiry, which ranked 1 (most important) in weight, 9 in gain, and 10 in cover. Without diving into the details of ER-Expiry, describe the characteristics of a feature which would exhibit this behavior. It must be used in many splits, but contribute only an average gain, and cover only an average number of samples. So this type of feature must be powerful primarily in conjunction with other features. \n",
    "\n",
    "Consider the SMA features: 30 day SMA, 15 day SMA, and 45 day SMA. They ranked 1, 2, and 3 in gain and cover, but dropped to 9, 14, and 6 in weight. This pattern is just the opposite of the ranking for feature ER-Expiry. What characteristics do these features have in common?\n",
    "\n",
    "Evaluation Questions - Understand the Model, er, Forest\n",
    "Use sklearn methods to interrogate the model to answer these questions. \n",
    "- How many trees in this forest?\n",
    "- How many rules in this forest?\n",
    "- How many decision notes? Leaf nodes?\n",
    "\n",
    "Evaluation Questions - Understand the metrics.\n",
    "- What are the three metrics? Define each metric in your own words.\n",
    "- In the units shown in the charts, what is the maximum value for weight, gain, and cover.\n",
    "- Describe the characteristics of a feature that scores high on one metric and low on the other two.\n",
    "- Give an example of a tree where a feature scores high / low on each metric.\n",
    "- Can a single feature score high on all three metrics simultaneously? Why, or not?\n",
    "- Why are these metrics so important for random forests?\n",
    "\n",
    "Code Questions\n",
    "- The numbers in the lower two charts are not formatted well. Please fix.\n",
    "- How would you use all these metrics to prune the feature set? Now write the code.\n",
    "- Run all the learners with your reduced feature set. Any performance differences? Why, or not?\n",
    "    "
   ]
  },
  {
   "cell_type": "markdown",
   "metadata": {},
   "source": [
    "## Shapley Additive Values\n",
    "Shapley value is a weighted average of the marginal contributions of a featrure value to the prediction in different coalitions (combinations) of features.\n",
    "\n",
    "Shapley value is NOT a change in the prediciton when the feature is removed.\n",
    "\n",
    "Shapley value has exhibits critical characteristics:\n",
    "-Efficiency - feature contributions must sum to:\n",
    "        delta(pred(x)) - average(predictions).\n",
    "-Symmetry - If feature values i and j contribute equally to all possible coalitions, then Shapley value (i) = Shapley value (j).\n",
    "-Dummy - If feature j contributes 0 to the prediction (no change in the prediction), then its Shapley value must be = 0.\n",
    "-Additivity - for the payouts value + value*, Shapley value = x(j) + x(j*)\n",
    "\n",
    "Problem with Shapley is a computational explosion--2^k coalitions.   "
   ]
  },
  {
   "cell_type": "markdown",
   "metadata": {},
   "source": [
    "## Congratulations, you peeked inside the Learners with a real data set."
   ]
  },
  {
   "cell_type": "markdown",
   "metadata": {},
   "source": [
    "Congratulations! You just trained several Learners to pick winning stock option trades. Now, you are almost ready to make a fortune in the stock market. But, first... consider these questions:\n",
    "\n",
    "- How can you improve the feature set? \n",
    "- Which Learner(s) would you choose? Why?\n",
    "- How can you gain more confidence in your trader?\n",
    "- What is your goal? Single profitable trades, or a portfolio of trades? What's the difference?\n",
    "\n",
    "Tune into the next exciting notebook to explore questions of maximizing portfolio results for options trading. \n",
    "\n",
    "Wishing you only profitable trades and good learning,\n",
    "\n",
    "Richard Barrett\n",
    "\n",
    "richard at rbshomes dot com.\n",
    "\n",
    "P.S. I want to hear about your adventures in Machine Learning, your questions and comments about stock option trading, and especially your specific applications for machine learning. Just shoot me an email.\n"
   ]
  }
 ],
 "metadata": {
  "kernelspec": {
   "display_name": "Python 3",
   "language": "python",
   "name": "python3"
  },
  "language_info": {
   "codemirror_mode": {
    "name": "ipython",
    "version": 3
   },
   "file_extension": ".py",
   "mimetype": "text/x-python",
   "name": "python",
   "nbconvert_exporter": "python",
   "pygments_lexer": "ipython3",
   "version": "3.8.4rc1"
  }
 },
 "nbformat": 4,
 "nbformat_minor": 4
}
